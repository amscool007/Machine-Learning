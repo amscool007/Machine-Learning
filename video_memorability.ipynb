{
  "nbformat": 4,
  "nbformat_minor": 0,
  "metadata": {
    "colab": {
      "name": "video_memorability.ipynb",
      "provenance": [],
      "collapsed_sections": []
    },
    "kernelspec": {
      "name": "python3",
      "display_name": "Python 3"
    }
  },
  "cells": [
    {
      "cell_type": "code",
      "metadata": {
        "id": "heKdydL-Lr1L",
        "colab_type": "code",
        "colab": {}
      },
      "source": [
        "def Get_score(Y_pred,Y_true):\n",
        "    '''Calculate the Spearmann\"s correlation coefficient'''\n",
        "    Y_pred = np.squeeze(Y_pred)\n",
        "    Y_true = np.squeeze(Y_true)\n",
        "    if Y_pred.shape != Y_true.shape:\n",
        "        print('Input shapes don\\'t match!')\n",
        "    else:\n",
        "        if len(Y_pred.shape) == 1:\n",
        "            Res = pd.DataFrame({'Y_true':Y_true,'Y_pred':Y_pred})\n",
        "            score_mat = Res[['Y_true','Y_pred']].corr(method='spearman',min_periods=1)\n",
        "            print('The Spearman\\'s correlation coefficient is: %.3f' % score_mat.iloc[1][0])\n",
        "        else:\n",
        "            for ii in range(Y_pred.shape[1]):\n",
        "                Get_score(Y_pred[:,ii],Y_true[:,ii])"
      ],
      "execution_count": 0,
      "outputs": []
    },
    {
      "cell_type": "code",
      "metadata": {
        "id": "J0VBKRGEr_18",
        "colab_type": "code",
        "outputId": "ad910684-666c-4ddc-9569-607810fd9516",
        "colab": {
          "base_uri": "https://localhost:8080/",
          "height": 124
        }
      },
      "source": [
        "from google.colab import drive\n",
        "drive.mount('/content/drive/', force_remount=True)"
      ],
      "execution_count": 0,
      "outputs": [
        {
          "output_type": "stream",
          "text": [
            "Go to this URL in a browser: https://accounts.google.com/o/oauth2/auth?client_id=947318989803-6bn6qk8qdgf4n4g3pfee6491hc0brc4i.apps.googleusercontent.com&redirect_uri=urn%3aietf%3awg%3aoauth%3a2.0%3aoob&response_type=code&scope=email%20https%3a%2f%2fwww.googleapis.com%2fauth%2fdocs.test%20https%3a%2f%2fwww.googleapis.com%2fauth%2fdrive%20https%3a%2f%2fwww.googleapis.com%2fauth%2fdrive.photos.readonly%20https%3a%2f%2fwww.googleapis.com%2fauth%2fpeopleapi.readonly\n",
            "\n",
            "Enter your authorization code:\n",
            "··········\n",
            "Mounted at /content/drive/\n"
          ],
          "name": "stdout"
        }
      ]
    },
    {
      "cell_type": "code",
      "metadata": {
        "id": "TnoL75jmsy3O",
        "colab_type": "code",
        "colab": {}
      },
      "source": [
        "import os\n",
        "os.chdir('/content/drive/My Drive/CA684_Assignment')"
      ],
      "execution_count": 0,
      "outputs": []
    },
    {
      "cell_type": "code",
      "metadata": {
        "id": "AUOykwPs2RzC",
        "colab_type": "code",
        "outputId": "2979635c-1b31-4c16-e694-f44bf8cda691",
        "colab": {
          "base_uri": "https://localhost:8080/",
          "height": 34
        }
      },
      "source": [
        "!pwd"
      ],
      "execution_count": 0,
      "outputs": [
        {
          "output_type": "stream",
          "text": [
            "/content/drive/.shortcut-targets-by-id/1UWIdExqb5P94RLqkaiODcwFC2v7g3lB2/CA684_Assignment\n"
          ],
          "name": "stdout"
        }
      ]
    },
    {
      "cell_type": "code",
      "metadata": {
        "id": "BNIk5s5M2abb",
        "colab_type": "code",
        "outputId": "ca642229-f9e6-4dee-b8c9-385b8aed6cd1",
        "colab": {
          "base_uri": "https://localhost:8080/",
          "height": 52
        }
      },
      "source": [
        "!ls"
      ],
      "execution_count": 0,
      "outputs": [
        {
          "output_type": "stream",
          "text": [
            "Additional_Resources  Complete_Sources\tTest-set\n",
            "Assignment_Overview   Dev-set\t\tTutorials\n"
          ],
          "name": "stdout"
        }
      ]
    },
    {
      "cell_type": "code",
      "metadata": {
        "id": "4pw0UUDts3cz",
        "colab_type": "code",
        "outputId": "03282064-d044-4058-d488-2a71edb719e5",
        "colab": {
          "base_uri": "https://localhost:8080/",
          "height": 106
        }
      },
      "source": [
        "!pip install pyprind"
      ],
      "execution_count": 0,
      "outputs": [
        {
          "output_type": "stream",
          "text": [
            "Collecting pyprind\n",
            "  Downloading https://files.pythonhosted.org/packages/1e/30/e76fb0c45da8aef49ea8d2a90d4e7a6877b45894c25f12fb961f009a891e/PyPrind-2.11.2-py3-none-any.whl\n",
            "Installing collected packages: pyprind\n",
            "Successfully installed pyprind-2.11.2\n"
          ],
          "name": "stdout"
        }
      ]
    },
    {
      "cell_type": "code",
      "metadata": {
        "id": "FQ5OZxE4s9S9",
        "colab_type": "code",
        "outputId": "7cdd18a3-3c05-4267-c143-3020d443c57b",
        "colab": {
          "base_uri": "https://localhost:8080/",
          "height": 52
        }
      },
      "source": [
        "import pandas as pd\n",
        "import keras\n",
        "from keras.layers import Dense\n",
        "from keras.layers import Dropout\n",
        "from keras.models import Sequential\n",
        "from keras.optimizers import SGD\n",
        "# Import EarlyStopping\n",
        "from keras.callbacks import EarlyStopping\n",
        "from sklearn.model_selection import train_test_split\n",
        "from sklearn.feature_extraction.text import CountVectorizer\n",
        "from sklearn.feature_extraction.text import TfidfVectorizer\n",
        "import nltk\n",
        "#nltk.download()\n",
        "nltk.download('punkt')\n",
        "\n",
        "import numpy as np\n",
        "import pyprind\n",
        "import matplotlib.pyplot as plt"
      ],
      "execution_count": 0,
      "outputs": [
        {
          "output_type": "stream",
          "text": [
            "[nltk_data] Downloading package punkt to /root/nltk_data...\n",
            "[nltk_data]   Package punkt is already up-to-date!\n"
          ],
          "name": "stdout"
        }
      ]
    },
    {
      "cell_type": "code",
      "metadata": {
        "id": "7rz_3H5NtBpq",
        "colab_type": "code",
        "colab": {}
      },
      "source": [
        "from nltk.stem import PorterStemmer\n",
        "from nltk.stem import LancasterStemmer"
      ],
      "execution_count": 0,
      "outputs": []
    },
    {
      "cell_type": "code",
      "metadata": {
        "id": "Zq--qBx6tGDi",
        "colab_type": "code",
        "colab": {}
      },
      "source": [
        "# captions and labels\n",
        "def read_caps(fname):\n",
        "    \"\"\"Load the captions into a dataframe\"\"\"\n",
        "    vn = []\n",
        "    cap = []\n",
        "    df = pd.DataFrame();\n",
        "    with open(fname) as f:\n",
        "        for line in f:\n",
        "            pairs = line.split()\n",
        "            vn.append(pairs[0])\n",
        "            cap.append(pairs[1])\n",
        "        df['video']=vn\n",
        "        df['caption']=cap\n",
        "    return df\n",
        "\n",
        "\n",
        "# load dev set captions\n",
        "cap_path = '/content/drive/My Drive/CA684_Assignment/Dev-set/Captions/dev-set_video-captions.txt'\n",
        "df_captions=read_caps(cap_path)\n",
        "\n",
        "# load dev set ground truth values\n",
        "label_path = './'\n",
        "labels=pd.read_csv(label_path+'Dev-set/Ground-truth/ground-truth.csv')\n"
      ],
      "execution_count": 0,
      "outputs": []
    },
    {
      "cell_type": "code",
      "metadata": {
        "id": "AjPXd6k8wBlH",
        "colab_type": "code",
        "colab": {}
      },
      "source": [
        "#for test-set\n",
        "\n",
        "\n",
        "\n",
        "#os.chdir(\"/content/drive/My Drive/CA684_Assignment_Data/Test-set/\")\n",
        "\n"
      ],
      "execution_count": 0,
      "outputs": []
    },
    {
      "cell_type": "code",
      "metadata": {
        "id": "iWjDUfFR4xYH",
        "colab_type": "code",
        "outputId": "bec86ad7-f84c-4d78-d25f-487f21985551",
        "colab": {
          "base_uri": "https://localhost:8080/",
          "height": 34
        }
      },
      "source": [
        "!pwd"
      ],
      "execution_count": 0,
      "outputs": [
        {
          "output_type": "stream",
          "text": [
            "/content/drive/.shortcut-targets-by-id/1UWIdExqb5P94RLqkaiODcwFC2v7g3lB2/CA684_Assignment\n"
          ],
          "name": "stdout"
        }
      ]
    },
    {
      "cell_type": "code",
      "metadata": {
        "id": "le2MemCC4-ih",
        "colab_type": "code",
        "outputId": "b0230a71-b4e7-4dee-ac36-6078e09ca0dd",
        "colab": {
          "base_uri": "https://localhost:8080/",
          "height": 52
        }
      },
      "source": [
        "!ls"
      ],
      "execution_count": 0,
      "outputs": [
        {
          "output_type": "stream",
          "text": [
            "Additional_Resources  Complete_Sources\tTest-set\n",
            "Assignment_Overview   Dev-set\t\tTutorials\n"
          ],
          "name": "stdout"
        }
      ]
    },
    {
      "cell_type": "code",
      "metadata": {
        "id": "t1IV1Y-15DGm",
        "colab_type": "code",
        "outputId": "cb4b519b-e3f2-4c56-cf77-8208d6a873d5",
        "colab": {
          "base_uri": "https://localhost:8080/",
          "height": 198
        }
      },
      "source": [
        "\n",
        "# test-set`\n",
        "df_captions_test = pd.read_csv('/content/drive/My Drive/CA684_Assignment/Test-set/Captions_test/test-set-1_video-captions.txt', sep='\\t',names = ['video','caption'])\n",
        "df_captions_test.head()\n",
        "\n",
        "\n"
      ],
      "execution_count": 0,
      "outputs": [
        {
          "output_type": "execute_result",
          "data": {
            "text/html": [
              "<div>\n",
              "<style scoped>\n",
              "    .dataframe tbody tr th:only-of-type {\n",
              "        vertical-align: middle;\n",
              "    }\n",
              "\n",
              "    .dataframe tbody tr th {\n",
              "        vertical-align: top;\n",
              "    }\n",
              "\n",
              "    .dataframe thead th {\n",
              "        text-align: right;\n",
              "    }\n",
              "</style>\n",
              "<table border=\"1\" class=\"dataframe\">\n",
              "  <thead>\n",
              "    <tr style=\"text-align: right;\">\n",
              "      <th></th>\n",
              "      <th>video</th>\n",
              "      <th>caption</th>\n",
              "    </tr>\n",
              "  </thead>\n",
              "  <tbody>\n",
              "    <tr>\n",
              "      <th>0</th>\n",
              "      <td>video7494.webm</td>\n",
              "      <td>green-jeep-struggling-to-drive-over-huge-rocks</td>\n",
              "    </tr>\n",
              "    <tr>\n",
              "      <th>1</th>\n",
              "      <td>video7495.webm</td>\n",
              "      <td>hiking-woman-tourist-is-walking-forward-in-mou...</td>\n",
              "    </tr>\n",
              "    <tr>\n",
              "      <th>2</th>\n",
              "      <td>video7496.webm</td>\n",
              "      <td>close-up-of-african-american-doctors-hands-usi...</td>\n",
              "    </tr>\n",
              "    <tr>\n",
              "      <th>3</th>\n",
              "      <td>video7497.webm</td>\n",
              "      <td>slow-motion-of-a-man-using-treadmill-in-the-gy...</td>\n",
              "    </tr>\n",
              "    <tr>\n",
              "      <th>4</th>\n",
              "      <td>video7498.webm</td>\n",
              "      <td>slow-motion-of-photographer-in-national-park</td>\n",
              "    </tr>\n",
              "  </tbody>\n",
              "</table>\n",
              "</div>"
            ],
            "text/plain": [
              "            video                                            caption\n",
              "0  video7494.webm     green-jeep-struggling-to-drive-over-huge-rocks\n",
              "1  video7495.webm  hiking-woman-tourist-is-walking-forward-in-mou...\n",
              "2  video7496.webm  close-up-of-african-american-doctors-hands-usi...\n",
              "3  video7497.webm  slow-motion-of-a-man-using-treadmill-in-the-gy...\n",
              "4  video7498.webm       slow-motion-of-photographer-in-national-park"
            ]
          },
          "metadata": {
            "tags": []
          },
          "execution_count": 260
        }
      ]
    },
    {
      "cell_type": "code",
      "metadata": {
        "id": "GqMn244SDMrx",
        "colab_type": "code",
        "outputId": "6b56aa25-5467-4738-c6bd-e408ff499ae9",
        "colab": {
          "base_uri": "https://localhost:8080/",
          "height": 198
        }
      },
      "source": [
        "labels_test = pd.read_csv('/content/drive/My Drive/CA684_Assignment/Test-set/Ground-truth_test/ground_truth_template.csv')\n",
        "labels_test.head()"
      ],
      "execution_count": 0,
      "outputs": [
        {
          "output_type": "execute_result",
          "data": {
            "text/html": [
              "<div>\n",
              "<style scoped>\n",
              "    .dataframe tbody tr th:only-of-type {\n",
              "        vertical-align: middle;\n",
              "    }\n",
              "\n",
              "    .dataframe tbody tr th {\n",
              "        vertical-align: top;\n",
              "    }\n",
              "\n",
              "    .dataframe thead th {\n",
              "        text-align: right;\n",
              "    }\n",
              "</style>\n",
              "<table border=\"1\" class=\"dataframe\">\n",
              "  <thead>\n",
              "    <tr style=\"text-align: right;\">\n",
              "      <th></th>\n",
              "      <th>video</th>\n",
              "      <th>short-term_memorability</th>\n",
              "      <th>nb_short-term_annotations</th>\n",
              "      <th>long-term_memorability</th>\n",
              "      <th>nb_long-term_annotations</th>\n",
              "    </tr>\n",
              "  </thead>\n",
              "  <tbody>\n",
              "    <tr>\n",
              "      <th>0</th>\n",
              "      <td>7494</td>\n",
              "      <td>NaN</td>\n",
              "      <td>33</td>\n",
              "      <td>NaN</td>\n",
              "      <td>12</td>\n",
              "    </tr>\n",
              "    <tr>\n",
              "      <th>1</th>\n",
              "      <td>7495</td>\n",
              "      <td>NaN</td>\n",
              "      <td>34</td>\n",
              "      <td>NaN</td>\n",
              "      <td>10</td>\n",
              "    </tr>\n",
              "    <tr>\n",
              "      <th>2</th>\n",
              "      <td>7496</td>\n",
              "      <td>NaN</td>\n",
              "      <td>32</td>\n",
              "      <td>NaN</td>\n",
              "      <td>13</td>\n",
              "    </tr>\n",
              "    <tr>\n",
              "      <th>3</th>\n",
              "      <td>7497</td>\n",
              "      <td>NaN</td>\n",
              "      <td>33</td>\n",
              "      <td>NaN</td>\n",
              "      <td>10</td>\n",
              "    </tr>\n",
              "    <tr>\n",
              "      <th>4</th>\n",
              "      <td>7498</td>\n",
              "      <td>NaN</td>\n",
              "      <td>33</td>\n",
              "      <td>NaN</td>\n",
              "      <td>10</td>\n",
              "    </tr>\n",
              "  </tbody>\n",
              "</table>\n",
              "</div>"
            ],
            "text/plain": [
              "   video  ...  nb_long-term_annotations\n",
              "0   7494  ...                        12\n",
              "1   7495  ...                        10\n",
              "2   7496  ...                        13\n",
              "3   7497  ...                        10\n",
              "4   7498  ...                        10\n",
              "\n",
              "[5 rows x 5 columns]"
            ]
          },
          "metadata": {
            "tags": []
          },
          "execution_count": 261
        }
      ]
    },
    {
      "cell_type": "code",
      "metadata": {
        "id": "Hjuu3TPRHC-F",
        "colab_type": "code",
        "outputId": "79a2480c-6ec2-4cba-a60a-77c072b7637e",
        "colab": {
          "base_uri": "https://localhost:8080/",
          "height": 121
        }
      },
      "source": [
        "df_captions_test['video'].head()\n"
      ],
      "execution_count": 0,
      "outputs": [
        {
          "output_type": "execute_result",
          "data": {
            "text/plain": [
              "0    video7494.webm\n",
              "1    video7495.webm\n",
              "2    video7496.webm\n",
              "3    video7497.webm\n",
              "4    video7498.webm\n",
              "Name: video, dtype: object"
            ]
          },
          "metadata": {
            "tags": []
          },
          "execution_count": 262
        }
      ]
    },
    {
      "cell_type": "code",
      "metadata": {
        "id": "fDcYWln3HT2D",
        "colab_type": "code",
        "outputId": "5bc39a25-0b83-45c1-8ac0-412427f45e6e",
        "colab": {
          "base_uri": "https://localhost:8080/",
          "height": 233
        }
      },
      "source": [
        "df_captions_dev = df_captions.merge(labels,on=[\"video\"],how=\"inner\")\n",
        "df_captions_dev.head()"
      ],
      "execution_count": 0,
      "outputs": [
        {
          "output_type": "execute_result",
          "data": {
            "text/html": [
              "<div>\n",
              "<style scoped>\n",
              "    .dataframe tbody tr th:only-of-type {\n",
              "        vertical-align: middle;\n",
              "    }\n",
              "\n",
              "    .dataframe tbody tr th {\n",
              "        vertical-align: top;\n",
              "    }\n",
              "\n",
              "    .dataframe thead th {\n",
              "        text-align: right;\n",
              "    }\n",
              "</style>\n",
              "<table border=\"1\" class=\"dataframe\">\n",
              "  <thead>\n",
              "    <tr style=\"text-align: right;\">\n",
              "      <th></th>\n",
              "      <th>video</th>\n",
              "      <th>caption</th>\n",
              "      <th>short-term_memorability</th>\n",
              "      <th>nb_short-term_annotations</th>\n",
              "      <th>long-term_memorability</th>\n",
              "      <th>nb_long-term_annotations</th>\n",
              "    </tr>\n",
              "  </thead>\n",
              "  <tbody>\n",
              "    <tr>\n",
              "      <th>0</th>\n",
              "      <td>video3.webm</td>\n",
              "      <td>blonde-woman-is-massaged-tilt-down</td>\n",
              "      <td>0.924</td>\n",
              "      <td>34</td>\n",
              "      <td>0.846</td>\n",
              "      <td>13</td>\n",
              "    </tr>\n",
              "    <tr>\n",
              "      <th>1</th>\n",
              "      <td>video4.webm</td>\n",
              "      <td>roulette-table-spinning-with-ball-in-closeup-shot</td>\n",
              "      <td>0.923</td>\n",
              "      <td>33</td>\n",
              "      <td>0.667</td>\n",
              "      <td>12</td>\n",
              "    </tr>\n",
              "    <tr>\n",
              "      <th>2</th>\n",
              "      <td>video6.webm</td>\n",
              "      <td>khr-gangsters</td>\n",
              "      <td>0.863</td>\n",
              "      <td>33</td>\n",
              "      <td>0.700</td>\n",
              "      <td>10</td>\n",
              "    </tr>\n",
              "    <tr>\n",
              "      <th>3</th>\n",
              "      <td>video8.webm</td>\n",
              "      <td>medical-helicopter-hovers-at-airport</td>\n",
              "      <td>0.922</td>\n",
              "      <td>33</td>\n",
              "      <td>0.818</td>\n",
              "      <td>11</td>\n",
              "    </tr>\n",
              "    <tr>\n",
              "      <th>4</th>\n",
              "      <td>video10.webm</td>\n",
              "      <td>couple-relaxing-on-picnic-crane-shot</td>\n",
              "      <td>0.950</td>\n",
              "      <td>34</td>\n",
              "      <td>0.900</td>\n",
              "      <td>10</td>\n",
              "    </tr>\n",
              "  </tbody>\n",
              "</table>\n",
              "</div>"
            ],
            "text/plain": [
              "          video  ... nb_long-term_annotations\n",
              "0   video3.webm  ...                       13\n",
              "1   video4.webm  ...                       12\n",
              "2   video6.webm  ...                       10\n",
              "3   video8.webm  ...                       11\n",
              "4  video10.webm  ...                       10\n",
              "\n",
              "[5 rows x 6 columns]"
            ]
          },
          "metadata": {
            "tags": []
          },
          "execution_count": 263
        }
      ]
    },
    {
      "cell_type": "code",
      "metadata": {
        "id": "8KnwZMxUpPmk",
        "colab_type": "code",
        "colab": {}
      },
      "source": [
        "\n",
        "def read_HMP(fname):\n",
        "    \"\"\"Scan HMP(Histogram of Motion Patterns) features from file\"\"\"\n",
        "    with open(fname) as f:\n",
        "        for line in f:\n",
        "            pairs=line.split()\n",
        "            HMP_temp = { int(p.split(':')[0]) : float(p.split(':')[1]) for p in pairs}\n",
        "    # there are 6075 bins, fill zeros\n",
        "    HMP = np.zeros(6075)\n",
        "    for idx in HMP_temp.keys():\n",
        "        HMP[idx-1] = HMP_temp[idx]            \n",
        "    return HMP"
      ],
      "execution_count": 0,
      "outputs": []
    },
    {
      "cell_type": "code",
      "metadata": {
        "id": "17mPHlaDt7kE",
        "colab_type": "code",
        "colab": {}
      },
      "source": [
        "#Loading HMP Features\n",
        "df_hmp_dev = pd.DataFrame(columns = ['video', 'arrayInfo'])\n",
        "\n",
        "dir_hmp_dev = '/content/drive/My Drive/CA684_Assignment/Dev-set/HMP/'\n",
        "\n",
        "for filename in os.listdir(dir_hmp_dev):\n",
        "    if filename.endswith(\".txt\"):\n",
        "        path = os.path.join(dir_hmp_dev, filename)\n",
        "        array = read_HMP(path)\n",
        "        fileName= filename.replace(\".txt\",\".webm\")\n",
        "        df_hmp_dev = df_hmp_dev.append({'video': fileName, 'arrayInfo': array}, ignore_index=True)\n",
        "    else:\n",
        "        break"
      ],
      "execution_count": 0,
      "outputs": []
    },
    {
      "cell_type": "code",
      "metadata": {
        "id": "H5dmkIoFCTTU",
        "colab_type": "code",
        "outputId": "f7c17055-0d81-4307-c4fa-202128a127f4",
        "colab": {
          "base_uri": "https://localhost:8080/",
          "height": 302
        }
      },
      "source": [
        "df_dev = df_captions_dev.merge(df_hmp_dev,on=[\"video\"],how=\"inner\")\n",
        "df_dev.columns\n",
        "df_dev.head()"
      ],
      "execution_count": 0,
      "outputs": [
        {
          "output_type": "execute_result",
          "data": {
            "text/html": [
              "<div>\n",
              "<style scoped>\n",
              "    .dataframe tbody tr th:only-of-type {\n",
              "        vertical-align: middle;\n",
              "    }\n",
              "\n",
              "    .dataframe tbody tr th {\n",
              "        vertical-align: top;\n",
              "    }\n",
              "\n",
              "    .dataframe thead th {\n",
              "        text-align: right;\n",
              "    }\n",
              "</style>\n",
              "<table border=\"1\" class=\"dataframe\">\n",
              "  <thead>\n",
              "    <tr style=\"text-align: right;\">\n",
              "      <th></th>\n",
              "      <th>video</th>\n",
              "      <th>caption</th>\n",
              "      <th>short-term_memorability</th>\n",
              "      <th>nb_short-term_annotations</th>\n",
              "      <th>long-term_memorability</th>\n",
              "      <th>nb_long-term_annotations</th>\n",
              "      <th>arrayInfo</th>\n",
              "    </tr>\n",
              "  </thead>\n",
              "  <tbody>\n",
              "    <tr>\n",
              "      <th>0</th>\n",
              "      <td>video3.webm</td>\n",
              "      <td>blonde-woman-is-massaged-tilt-down</td>\n",
              "      <td>0.924</td>\n",
              "      <td>34</td>\n",
              "      <td>0.846</td>\n",
              "      <td>13</td>\n",
              "      <td>[0.125563, 0.024036, 0.000314, 0.0, 0.015864, ...</td>\n",
              "    </tr>\n",
              "    <tr>\n",
              "      <th>1</th>\n",
              "      <td>video4.webm</td>\n",
              "      <td>roulette-table-spinning-with-ball-in-closeup-shot</td>\n",
              "      <td>0.923</td>\n",
              "      <td>33</td>\n",
              "      <td>0.667</td>\n",
              "      <td>12</td>\n",
              "      <td>[0.007526, 0.001421, 6.8e-05, 0.0, 0.001184, 0...</td>\n",
              "    </tr>\n",
              "    <tr>\n",
              "      <th>2</th>\n",
              "      <td>video6.webm</td>\n",
              "      <td>khr-gangsters</td>\n",
              "      <td>0.863</td>\n",
              "      <td>33</td>\n",
              "      <td>0.700</td>\n",
              "      <td>10</td>\n",
              "      <td>[0.109584, 0.018978, 0.000289, 0.0, 0.008774, ...</td>\n",
              "    </tr>\n",
              "    <tr>\n",
              "      <th>3</th>\n",
              "      <td>video8.webm</td>\n",
              "      <td>medical-helicopter-hovers-at-airport</td>\n",
              "      <td>0.922</td>\n",
              "      <td>33</td>\n",
              "      <td>0.818</td>\n",
              "      <td>11</td>\n",
              "      <td>[0.120431, 0.013561, 0.000277, 0.0, 0.018974, ...</td>\n",
              "    </tr>\n",
              "    <tr>\n",
              "      <th>4</th>\n",
              "      <td>video10.webm</td>\n",
              "      <td>couple-relaxing-on-picnic-crane-shot</td>\n",
              "      <td>0.950</td>\n",
              "      <td>34</td>\n",
              "      <td>0.900</td>\n",
              "      <td>10</td>\n",
              "      <td>[0.005026, 0.001356, 5.5e-05, 0.0, 0.000665, 2...</td>\n",
              "    </tr>\n",
              "  </tbody>\n",
              "</table>\n",
              "</div>"
            ],
            "text/plain": [
              "          video  ...                                          arrayInfo\n",
              "0   video3.webm  ...  [0.125563, 0.024036, 0.000314, 0.0, 0.015864, ...\n",
              "1   video4.webm  ...  [0.007526, 0.001421, 6.8e-05, 0.0, 0.001184, 0...\n",
              "2   video6.webm  ...  [0.109584, 0.018978, 0.000289, 0.0, 0.008774, ...\n",
              "3   video8.webm  ...  [0.120431, 0.013561, 0.000277, 0.0, 0.018974, ...\n",
              "4  video10.webm  ...  [0.005026, 0.001356, 5.5e-05, 0.0, 0.000665, 2...\n",
              "\n",
              "[5 rows x 7 columns]"
            ]
          },
          "metadata": {
            "tags": []
          },
          "execution_count": 264
        }
      ]
    },
    {
      "cell_type": "code",
      "metadata": {
        "id": "HHaaY-mMLqsc",
        "colab_type": "code",
        "outputId": "3d0072d7-68be-4e11-9be4-94a3ecfb824e",
        "colab": {
          "base_uri": "https://localhost:8080/",
          "height": 408
        }
      },
      "source": [
        "df_hmp_dev"
      ],
      "execution_count": 0,
      "outputs": [
        {
          "output_type": "execute_result",
          "data": {
            "text/html": [
              "<div>\n",
              "<style scoped>\n",
              "    .dataframe tbody tr th:only-of-type {\n",
              "        vertical-align: middle;\n",
              "    }\n",
              "\n",
              "    .dataframe tbody tr th {\n",
              "        vertical-align: top;\n",
              "    }\n",
              "\n",
              "    .dataframe thead th {\n",
              "        text-align: right;\n",
              "    }\n",
              "</style>\n",
              "<table border=\"1\" class=\"dataframe\">\n",
              "  <thead>\n",
              "    <tr style=\"text-align: right;\">\n",
              "      <th></th>\n",
              "      <th>video</th>\n",
              "      <th>arrayInfo</th>\n",
              "    </tr>\n",
              "  </thead>\n",
              "  <tbody>\n",
              "    <tr>\n",
              "      <th>0</th>\n",
              "      <td>video6634.webm</td>\n",
              "      <td>[0.012099, 0.001466, 1.7e-05, 0.0, 0.000683, 7...</td>\n",
              "    </tr>\n",
              "    <tr>\n",
              "      <th>1</th>\n",
              "      <td>video6633.webm</td>\n",
              "      <td>[0.07817, 0.013597, 0.000122, 0.0, 0.00559, 7....</td>\n",
              "    </tr>\n",
              "    <tr>\n",
              "      <th>2</th>\n",
              "      <td>video6639.webm</td>\n",
              "      <td>[0.112506, 0.014053, 0.000263, 0.0, 0.043205, ...</td>\n",
              "    </tr>\n",
              "    <tr>\n",
              "      <th>3</th>\n",
              "      <td>video6635.webm</td>\n",
              "      <td>[0.066072, 0.012682, 0.000283, 0.0, 0.006425, ...</td>\n",
              "    </tr>\n",
              "    <tr>\n",
              "      <th>4</th>\n",
              "      <td>video6637.webm</td>\n",
              "      <td>[0.03036, 0.005834, 0.000169, 0.0, 0.006578, 0...</td>\n",
              "    </tr>\n",
              "    <tr>\n",
              "      <th>...</th>\n",
              "      <td>...</td>\n",
              "      <td>...</td>\n",
              "    </tr>\n",
              "    <tr>\n",
              "      <th>5995</th>\n",
              "      <td>video2126.webm</td>\n",
              "      <td>[0.010845, 0.002114, 7.5e-05, 0.0, 0.001033, 4...</td>\n",
              "    </tr>\n",
              "    <tr>\n",
              "      <th>5996</th>\n",
              "      <td>video2124.webm</td>\n",
              "      <td>[0.015527, 0.003654, 0.000133, 0.0, 0.003222, ...</td>\n",
              "    </tr>\n",
              "    <tr>\n",
              "      <th>5997</th>\n",
              "      <td>video2121.webm</td>\n",
              "      <td>[0.007801, 0.003515, 0.000265, 0.0, 0.00144, 0...</td>\n",
              "    </tr>\n",
              "    <tr>\n",
              "      <th>5998</th>\n",
              "      <td>video2117.webm</td>\n",
              "      <td>[0.012784, 0.002923, 3.2e-05, 0.0, 0.000598, 1...</td>\n",
              "    </tr>\n",
              "    <tr>\n",
              "      <th>5999</th>\n",
              "      <td>video2122.webm</td>\n",
              "      <td>[0.029524, 0.006144, 0.000169, 0.0, 0.003577, ...</td>\n",
              "    </tr>\n",
              "  </tbody>\n",
              "</table>\n",
              "<p>6000 rows × 2 columns</p>\n",
              "</div>"
            ],
            "text/plain": [
              "               video                                          arrayInfo\n",
              "0     video6634.webm  [0.012099, 0.001466, 1.7e-05, 0.0, 0.000683, 7...\n",
              "1     video6633.webm  [0.07817, 0.013597, 0.000122, 0.0, 0.00559, 7....\n",
              "2     video6639.webm  [0.112506, 0.014053, 0.000263, 0.0, 0.043205, ...\n",
              "3     video6635.webm  [0.066072, 0.012682, 0.000283, 0.0, 0.006425, ...\n",
              "4     video6637.webm  [0.03036, 0.005834, 0.000169, 0.0, 0.006578, 0...\n",
              "...              ...                                                ...\n",
              "5995  video2126.webm  [0.010845, 0.002114, 7.5e-05, 0.0, 0.001033, 4...\n",
              "5996  video2124.webm  [0.015527, 0.003654, 0.000133, 0.0, 0.003222, ...\n",
              "5997  video2121.webm  [0.007801, 0.003515, 0.000265, 0.0, 0.00144, 0...\n",
              "5998  video2117.webm  [0.012784, 0.002923, 3.2e-05, 0.0, 0.000598, 1...\n",
              "5999  video2122.webm  [0.029524, 0.006144, 0.000169, 0.0, 0.003577, ...\n",
              "\n",
              "[6000 rows x 2 columns]"
            ]
          },
          "metadata": {
            "tags": []
          },
          "execution_count": 265
        }
      ]
    },
    {
      "cell_type": "code",
      "metadata": {
        "id": "WfVjWO0GFmZD",
        "colab_type": "code",
        "colab": {}
      },
      "source": [
        "# test set\n",
        "df_hmp_test = pd.DataFrame(columns = ['video', 'arrayInfo'])\n",
        "\n",
        "dir_hmp_test = '/content/drive/My Drive/CA684_Assignment/Test-set/HMP_test'\n",
        "\n",
        "for filename in os.listdir(dir_hmp_test):\n",
        "    if filename.endswith(\".txt\"):\n",
        "        path = os.path.join(dir_hmp_test, filename)\n",
        "        array = read_HMP(path)\n",
        "        fileName= filename.replace(\".txt\",\".webm\")\n",
        "        df_hmp_test = df_hmp_test.append({'video': fileName, 'arrayInfo': array}, ignore_index=True)\n",
        "    else:\n",
        "        break"
      ],
      "execution_count": 0,
      "outputs": []
    },
    {
      "cell_type": "code",
      "metadata": {
        "id": "5GoshYgRZW0m",
        "colab_type": "code",
        "outputId": "b9478777-d3a0-4927-c20f-8d5c9f8cd696",
        "colab": {
          "base_uri": "https://localhost:8080/",
          "height": 198
        }
      },
      "source": [
        "df_hmp_test.head()"
      ],
      "execution_count": 0,
      "outputs": [
        {
          "output_type": "execute_result",
          "data": {
            "text/html": [
              "<div>\n",
              "<style scoped>\n",
              "    .dataframe tbody tr th:only-of-type {\n",
              "        vertical-align: middle;\n",
              "    }\n",
              "\n",
              "    .dataframe tbody tr th {\n",
              "        vertical-align: top;\n",
              "    }\n",
              "\n",
              "    .dataframe thead th {\n",
              "        text-align: right;\n",
              "    }\n",
              "</style>\n",
              "<table border=\"1\" class=\"dataframe\">\n",
              "  <thead>\n",
              "    <tr style=\"text-align: right;\">\n",
              "      <th></th>\n",
              "      <th>video</th>\n",
              "      <th>arrayInfo</th>\n",
              "    </tr>\n",
              "  </thead>\n",
              "  <tbody>\n",
              "    <tr>\n",
              "      <th>0</th>\n",
              "      <td>video8763.webm</td>\n",
              "      <td>[0.00206, 0.000583, 1.1e-05, 0.0, 0.000395, 3....</td>\n",
              "    </tr>\n",
              "    <tr>\n",
              "      <th>1</th>\n",
              "      <td>video8758.webm</td>\n",
              "      <td>[0.015623, 0.005571, 0.000267, 0.0, 0.003743, ...</td>\n",
              "    </tr>\n",
              "    <tr>\n",
              "      <th>2</th>\n",
              "      <td>video8768.webm</td>\n",
              "      <td>[0.00533, 0.001166, 2e-06, 0.0, 0.000927, 1.1e...</td>\n",
              "    </tr>\n",
              "    <tr>\n",
              "      <th>3</th>\n",
              "      <td>video8764.webm</td>\n",
              "      <td>[0.040748, 0.016237, 0.000303, 0.0, 0.007668, ...</td>\n",
              "    </tr>\n",
              "    <tr>\n",
              "      <th>4</th>\n",
              "      <td>video8760.webm</td>\n",
              "      <td>[0.056045, 0.012873, 0.000278, 0.0, 0.006645, ...</td>\n",
              "    </tr>\n",
              "  </tbody>\n",
              "</table>\n",
              "</div>"
            ],
            "text/plain": [
              "            video                                          arrayInfo\n",
              "0  video8763.webm  [0.00206, 0.000583, 1.1e-05, 0.0, 0.000395, 3....\n",
              "1  video8758.webm  [0.015623, 0.005571, 0.000267, 0.0, 0.003743, ...\n",
              "2  video8768.webm  [0.00533, 0.001166, 2e-06, 0.0, 0.000927, 1.1e...\n",
              "3  video8764.webm  [0.040748, 0.016237, 0.000303, 0.0, 0.007668, ...\n",
              "4  video8760.webm  [0.056045, 0.012873, 0.000278, 0.0, 0.006645, ..."
            ]
          },
          "metadata": {
            "tags": []
          },
          "execution_count": 267
        }
      ]
    },
    {
      "cell_type": "code",
      "metadata": {
        "id": "4DpFV60Ldjn3",
        "colab_type": "code",
        "outputId": "aa6655bd-d34b-4d78-aacb-7ce73bd173e0",
        "colab": {
          "base_uri": "https://localhost:8080/",
          "height": 198
        }
      },
      "source": [
        "df_test = df_captions_test.merge(df_hmp_test,on=[\"video\"],how=\"inner\")\n",
        "df_test.columns\n",
        "df_test.head()"
      ],
      "execution_count": 0,
      "outputs": [
        {
          "output_type": "execute_result",
          "data": {
            "text/html": [
              "<div>\n",
              "<style scoped>\n",
              "    .dataframe tbody tr th:only-of-type {\n",
              "        vertical-align: middle;\n",
              "    }\n",
              "\n",
              "    .dataframe tbody tr th {\n",
              "        vertical-align: top;\n",
              "    }\n",
              "\n",
              "    .dataframe thead th {\n",
              "        text-align: right;\n",
              "    }\n",
              "</style>\n",
              "<table border=\"1\" class=\"dataframe\">\n",
              "  <thead>\n",
              "    <tr style=\"text-align: right;\">\n",
              "      <th></th>\n",
              "      <th>video</th>\n",
              "      <th>caption</th>\n",
              "      <th>arrayInfo</th>\n",
              "    </tr>\n",
              "  </thead>\n",
              "  <tbody>\n",
              "    <tr>\n",
              "      <th>0</th>\n",
              "      <td>video7494.webm</td>\n",
              "      <td>green-jeep-struggling-to-drive-over-huge-rocks</td>\n",
              "      <td>[0.022039, 0.005264, 9.8e-05, 0.0, 0.003689, 0...</td>\n",
              "    </tr>\n",
              "    <tr>\n",
              "      <th>1</th>\n",
              "      <td>video7495.webm</td>\n",
              "      <td>hiking-woman-tourist-is-walking-forward-in-mou...</td>\n",
              "      <td>[0.004694, 0.001934, 4e-05, 0.0, 0.001226, 5.8...</td>\n",
              "    </tr>\n",
              "    <tr>\n",
              "      <th>2</th>\n",
              "      <td>video7496.webm</td>\n",
              "      <td>close-up-of-african-american-doctors-hands-usi...</td>\n",
              "      <td>[0.02653, 0.006208, 5.8e-05, 0.0, 0.00228, 3.1...</td>\n",
              "    </tr>\n",
              "    <tr>\n",
              "      <th>3</th>\n",
              "      <td>video7497.webm</td>\n",
              "      <td>slow-motion-of-a-man-using-treadmill-in-the-gy...</td>\n",
              "      <td>[0.045109, 0.008317, 0.000151, 0.0, 0.005598, ...</td>\n",
              "    </tr>\n",
              "    <tr>\n",
              "      <th>4</th>\n",
              "      <td>video7498.webm</td>\n",
              "      <td>slow-motion-of-photographer-in-national-park</td>\n",
              "      <td>[0.034691, 0.008619, 0.000412, 0.0, 0.028355, ...</td>\n",
              "    </tr>\n",
              "  </tbody>\n",
              "</table>\n",
              "</div>"
            ],
            "text/plain": [
              "            video  ...                                          arrayInfo\n",
              "0  video7494.webm  ...  [0.022039, 0.005264, 9.8e-05, 0.0, 0.003689, 0...\n",
              "1  video7495.webm  ...  [0.004694, 0.001934, 4e-05, 0.0, 0.001226, 5.8...\n",
              "2  video7496.webm  ...  [0.02653, 0.006208, 5.8e-05, 0.0, 0.00228, 3.1...\n",
              "3  video7497.webm  ...  [0.045109, 0.008317, 0.000151, 0.0, 0.005598, ...\n",
              "4  video7498.webm  ...  [0.034691, 0.008619, 0.000412, 0.0, 0.028355, ...\n",
              "\n",
              "[5 rows x 3 columns]"
            ]
          },
          "metadata": {
            "tags": []
          },
          "execution_count": 268
        }
      ]
    },
    {
      "cell_type": "code",
      "metadata": {
        "id": "AjbRg5UE39as",
        "colab_type": "code",
        "outputId": "ed7b4449-9890-4df3-db3f-f5d40b3a9c1e",
        "colab": {
          "base_uri": "https://localhost:8080/",
          "height": 121
        }
      },
      "source": [
        "# Tokenizing words in caption\n",
        "#test set\n",
        "df_dev['caption'].apply(nltk.word_tokenize)\n",
        "df_dev['caption'].head()"
      ],
      "execution_count": 0,
      "outputs": [
        {
          "output_type": "execute_result",
          "data": {
            "text/plain": [
              "0                   blonde-woman-is-massaged-tilt-down\n",
              "1    roulette-table-spinning-with-ball-in-closeup-shot\n",
              "2                                        khr-gangsters\n",
              "3                 medical-helicopter-hovers-at-airport\n",
              "4                 couple-relaxing-on-picnic-crane-shot\n",
              "Name: caption, dtype: object"
            ]
          },
          "metadata": {
            "tags": []
          },
          "execution_count": 269
        }
      ]
    },
    {
      "cell_type": "code",
      "metadata": {
        "id": "9h3zQGNE4PLI",
        "colab_type": "code",
        "outputId": "1c5f3b96-36fd-4357-f891-ce566e85868f",
        "colab": {
          "base_uri": "https://localhost:8080/",
          "height": 121
        }
      },
      "source": [
        "#test set\n",
        "df_test['caption'].apply(nltk.word_tokenize)\n",
        "df_test['caption'].head()"
      ],
      "execution_count": 0,
      "outputs": [
        {
          "output_type": "execute_result",
          "data": {
            "text/plain": [
              "0       green-jeep-struggling-to-drive-over-huge-rocks\n",
              "1    hiking-woman-tourist-is-walking-forward-in-mou...\n",
              "2    close-up-of-african-american-doctors-hands-usi...\n",
              "3    slow-motion-of-a-man-using-treadmill-in-the-gy...\n",
              "4         slow-motion-of-photographer-in-national-park\n",
              "Name: caption, dtype: object"
            ]
          },
          "metadata": {
            "tags": []
          },
          "execution_count": 270
        }
      ]
    },
    {
      "cell_type": "code",
      "metadata": {
        "id": "uom3u6DY4T-y",
        "colab_type": "code",
        "colab": {}
      },
      "source": [
        "# stemming the Word\n",
        "\n",
        "porter = PorterStemmer()\n",
        "lancaster=LancasterStemmer()"
      ],
      "execution_count": 0,
      "outputs": []
    },
    {
      "cell_type": "code",
      "metadata": {
        "id": "DxO2HgD24fNe",
        "colab_type": "code",
        "colab": {}
      },
      "source": [
        "#dev set\n",
        "\n",
        "def stem_sentences(sentence):\n",
        "    tokens = sentence.split()\n",
        "    #stemmed_tokens = [porter.stem(token) for token in tokens]\n",
        "    stemmed_tokens = [lancaster.stem(token) for token in tokens]\n",
        "    return ' '.join(stemmed_tokens)\n",
        "  \n",
        "df_dev['caption'] = df_dev['caption'].apply(stem_sentences)"
      ],
      "execution_count": 0,
      "outputs": []
    },
    {
      "cell_type": "code",
      "metadata": {
        "id": "geWyVh_c4juc",
        "colab_type": "code",
        "colab": {}
      },
      "source": [
        "#test set\n",
        "\n",
        "def stem_sentences(sentence):\n",
        "    tokens = sentence.split()\n",
        "    #stemmed_tokens = [porter.stem(token) for token in tokens]\n",
        "    stemmed_tokens = [lancaster.stem(token) for token in tokens]\n",
        "    return ' '.join(stemmed_tokens)\n",
        "  \n",
        "df_test['caption'] = df_test['caption'].apply(stem_sentences)"
      ],
      "execution_count": 0,
      "outputs": []
    },
    {
      "cell_type": "code",
      "metadata": {
        "id": "gwihARvZ4nqV",
        "colab_type": "code",
        "outputId": "a97af18b-3707-4359-87cd-61b0b7b63d17",
        "colab": {
          "base_uri": "https://localhost:8080/",
          "height": 34
        }
      },
      "source": [
        "df_dev.shape"
      ],
      "execution_count": 0,
      "outputs": [
        {
          "output_type": "execute_result",
          "data": {
            "text/plain": [
              "(6000, 7)"
            ]
          },
          "metadata": {
            "tags": []
          },
          "execution_count": 274
        }
      ]
    },
    {
      "cell_type": "code",
      "metadata": {
        "id": "44Q5G0Vg4tcz",
        "colab_type": "code",
        "outputId": "c392a4a5-73e8-4a54-f954-1e8e81cbf0db",
        "colab": {
          "base_uri": "https://localhost:8080/",
          "height": 34
        }
      },
      "source": [
        "df_test.shape"
      ],
      "execution_count": 0,
      "outputs": [
        {
          "output_type": "execute_result",
          "data": {
            "text/plain": [
              "(2000, 3)"
            ]
          },
          "metadata": {
            "tags": []
          },
          "execution_count": 275
        }
      ]
    },
    {
      "cell_type": "code",
      "metadata": {
        "id": "cl4CqryTSp_S",
        "colab_type": "code",
        "outputId": "d24fc045-c3a7-4df4-a86c-d6816b06fff0",
        "colab": {
          "base_uri": "https://localhost:8080/",
          "height": 408
        }
      },
      "source": [
        "df_test"
      ],
      "execution_count": 0,
      "outputs": [
        {
          "output_type": "execute_result",
          "data": {
            "text/html": [
              "<div>\n",
              "<style scoped>\n",
              "    .dataframe tbody tr th:only-of-type {\n",
              "        vertical-align: middle;\n",
              "    }\n",
              "\n",
              "    .dataframe tbody tr th {\n",
              "        vertical-align: top;\n",
              "    }\n",
              "\n",
              "    .dataframe thead th {\n",
              "        text-align: right;\n",
              "    }\n",
              "</style>\n",
              "<table border=\"1\" class=\"dataframe\">\n",
              "  <thead>\n",
              "    <tr style=\"text-align: right;\">\n",
              "      <th></th>\n",
              "      <th>video</th>\n",
              "      <th>caption</th>\n",
              "      <th>arrayInfo</th>\n",
              "    </tr>\n",
              "  </thead>\n",
              "  <tbody>\n",
              "    <tr>\n",
              "      <th>0</th>\n",
              "      <td>video7494.webm</td>\n",
              "      <td>green-jeep-struggling-to-drive-over-huge-rocks</td>\n",
              "      <td>[0.022039, 0.005264, 9.8e-05, 0.0, 0.003689, 0...</td>\n",
              "    </tr>\n",
              "    <tr>\n",
              "      <th>1</th>\n",
              "      <td>video7495.webm</td>\n",
              "      <td>hiking-woman-tourist-is-walking-forward-in-mou...</td>\n",
              "      <td>[0.004694, 0.001934, 4e-05, 0.0, 0.001226, 5.8...</td>\n",
              "    </tr>\n",
              "    <tr>\n",
              "      <th>2</th>\n",
              "      <td>video7496.webm</td>\n",
              "      <td>close-up-of-african-american-doctors-hands-usi...</td>\n",
              "      <td>[0.02653, 0.006208, 5.8e-05, 0.0, 0.00228, 3.1...</td>\n",
              "    </tr>\n",
              "    <tr>\n",
              "      <th>3</th>\n",
              "      <td>video7497.webm</td>\n",
              "      <td>slow-motion-of-a-man-using-treadmill-in-the-gy...</td>\n",
              "      <td>[0.045109, 0.008317, 0.000151, 0.0, 0.005598, ...</td>\n",
              "    </tr>\n",
              "    <tr>\n",
              "      <th>4</th>\n",
              "      <td>video7498.webm</td>\n",
              "      <td>slow-motion-of-photographer-in-national-park</td>\n",
              "      <td>[0.034691, 0.008619, 0.000412, 0.0, 0.028355, ...</td>\n",
              "    </tr>\n",
              "    <tr>\n",
              "      <th>...</th>\n",
              "      <td>...</td>\n",
              "      <td>...</td>\n",
              "      <td>...</td>\n",
              "    </tr>\n",
              "    <tr>\n",
              "      <th>1995</th>\n",
              "      <td>video10004.webm</td>\n",
              "      <td>astronaut-in-outer-space-against-the-backdrop-...</td>\n",
              "      <td>[0.003161, 0.00033, 0.0, 0.0, 0.000189, 0.0, 0...</td>\n",
              "    </tr>\n",
              "    <tr>\n",
              "      <th>1996</th>\n",
              "      <td>video10005.webm</td>\n",
              "      <td>young-women-lying-on-sunbed-and-applying-sun-c...</td>\n",
              "      <td>[0.016932, 0.003384, 8.3e-05, 0.0, 0.001586, 6...</td>\n",
              "    </tr>\n",
              "    <tr>\n",
              "      <th>1997</th>\n",
              "      <td>video10006.webm</td>\n",
              "      <td>doctor-talking-to-patient-using-a-tablet-to-ex...</td>\n",
              "      <td>[0.029347, 0.008073, 0.000101, 0.0, 0.001891, ...</td>\n",
              "    </tr>\n",
              "    <tr>\n",
              "      <th>1998</th>\n",
              "      <td>video10007.webm</td>\n",
              "      <td>businessman-sitting-on-the-beach-on-inflatable...</td>\n",
              "      <td>[0.021746, 0.003096, 4.5e-05, 0.0, 0.002586, 9...</td>\n",
              "    </tr>\n",
              "    <tr>\n",
              "      <th>1999</th>\n",
              "      <td>video10008.webm</td>\n",
              "      <td>woman-eating-ice-cream-and-sitting-in-the-stre...</td>\n",
              "      <td>[0.011207, 0.002827, 0.000137, 0.0, 0.003531, ...</td>\n",
              "    </tr>\n",
              "  </tbody>\n",
              "</table>\n",
              "<p>2000 rows × 3 columns</p>\n",
              "</div>"
            ],
            "text/plain": [
              "                video  ...                                          arrayInfo\n",
              "0      video7494.webm  ...  [0.022039, 0.005264, 9.8e-05, 0.0, 0.003689, 0...\n",
              "1      video7495.webm  ...  [0.004694, 0.001934, 4e-05, 0.0, 0.001226, 5.8...\n",
              "2      video7496.webm  ...  [0.02653, 0.006208, 5.8e-05, 0.0, 0.00228, 3.1...\n",
              "3      video7497.webm  ...  [0.045109, 0.008317, 0.000151, 0.0, 0.005598, ...\n",
              "4      video7498.webm  ...  [0.034691, 0.008619, 0.000412, 0.0, 0.028355, ...\n",
              "...               ...  ...                                                ...\n",
              "1995  video10004.webm  ...  [0.003161, 0.00033, 0.0, 0.0, 0.000189, 0.0, 0...\n",
              "1996  video10005.webm  ...  [0.016932, 0.003384, 8.3e-05, 0.0, 0.001586, 6...\n",
              "1997  video10006.webm  ...  [0.029347, 0.008073, 0.000101, 0.0, 0.001891, ...\n",
              "1998  video10007.webm  ...  [0.021746, 0.003096, 4.5e-05, 0.0, 0.002586, 9...\n",
              "1999  video10008.webm  ...  [0.011207, 0.002827, 0.000137, 0.0, 0.003531, ...\n",
              "\n",
              "[2000 rows x 3 columns]"
            ]
          },
          "metadata": {
            "tags": []
          },
          "execution_count": 276
        }
      ]
    },
    {
      "cell_type": "code",
      "metadata": {
        "id": "AWR_iVqO4zh_",
        "colab_type": "code",
        "outputId": "a9304e76-c857-4cde-84a7-899649be5f2d",
        "colab": {
          "base_uri": "https://localhost:8080/",
          "height": 34
        }
      },
      "source": [
        "# Concatenat the two datasets(dev and test) for generating the feature template\n",
        "df = pd.concat([df_dev,df_test])\n",
        "df.shape"
      ],
      "execution_count": 0,
      "outputs": [
        {
          "output_type": "execute_result",
          "data": {
            "text/plain": [
              "(8000, 7)"
            ]
          },
          "metadata": {
            "tags": []
          },
          "execution_count": 277
        }
      ]
    },
    {
      "cell_type": "code",
      "metadata": {
        "id": "UgKUAEHt48Uy",
        "colab_type": "code",
        "outputId": "73351d4f-412e-433b-acce-1bce73ab5f0d",
        "colab": {
          "base_uri": "https://localhost:8080/",
          "height": 302
        }
      },
      "source": [
        "df.head()"
      ],
      "execution_count": 0,
      "outputs": [
        {
          "output_type": "execute_result",
          "data": {
            "text/html": [
              "<div>\n",
              "<style scoped>\n",
              "    .dataframe tbody tr th:only-of-type {\n",
              "        vertical-align: middle;\n",
              "    }\n",
              "\n",
              "    .dataframe tbody tr th {\n",
              "        vertical-align: top;\n",
              "    }\n",
              "\n",
              "    .dataframe thead th {\n",
              "        text-align: right;\n",
              "    }\n",
              "</style>\n",
              "<table border=\"1\" class=\"dataframe\">\n",
              "  <thead>\n",
              "    <tr style=\"text-align: right;\">\n",
              "      <th></th>\n",
              "      <th>video</th>\n",
              "      <th>caption</th>\n",
              "      <th>short-term_memorability</th>\n",
              "      <th>nb_short-term_annotations</th>\n",
              "      <th>long-term_memorability</th>\n",
              "      <th>nb_long-term_annotations</th>\n",
              "      <th>arrayInfo</th>\n",
              "    </tr>\n",
              "  </thead>\n",
              "  <tbody>\n",
              "    <tr>\n",
              "      <th>0</th>\n",
              "      <td>video3.webm</td>\n",
              "      <td>blonde-woman-is-massaged-tilt-down</td>\n",
              "      <td>0.924</td>\n",
              "      <td>34.0</td>\n",
              "      <td>0.846</td>\n",
              "      <td>13.0</td>\n",
              "      <td>[0.125563, 0.024036, 0.000314, 0.0, 0.015864, ...</td>\n",
              "    </tr>\n",
              "    <tr>\n",
              "      <th>1</th>\n",
              "      <td>video4.webm</td>\n",
              "      <td>roulette-table-spinning-with-ball-in-closeup-shot</td>\n",
              "      <td>0.923</td>\n",
              "      <td>33.0</td>\n",
              "      <td>0.667</td>\n",
              "      <td>12.0</td>\n",
              "      <td>[0.007526, 0.001421, 6.8e-05, 0.0, 0.001184, 0...</td>\n",
              "    </tr>\n",
              "    <tr>\n",
              "      <th>2</th>\n",
              "      <td>video6.webm</td>\n",
              "      <td>khr-gangsters</td>\n",
              "      <td>0.863</td>\n",
              "      <td>33.0</td>\n",
              "      <td>0.700</td>\n",
              "      <td>10.0</td>\n",
              "      <td>[0.109584, 0.018978, 0.000289, 0.0, 0.008774, ...</td>\n",
              "    </tr>\n",
              "    <tr>\n",
              "      <th>3</th>\n",
              "      <td>video8.webm</td>\n",
              "      <td>medical-helicopter-hovers-at-airport</td>\n",
              "      <td>0.922</td>\n",
              "      <td>33.0</td>\n",
              "      <td>0.818</td>\n",
              "      <td>11.0</td>\n",
              "      <td>[0.120431, 0.013561, 0.000277, 0.0, 0.018974, ...</td>\n",
              "    </tr>\n",
              "    <tr>\n",
              "      <th>4</th>\n",
              "      <td>video10.webm</td>\n",
              "      <td>couple-relaxing-on-picnic-crane-shot</td>\n",
              "      <td>0.950</td>\n",
              "      <td>34.0</td>\n",
              "      <td>0.900</td>\n",
              "      <td>10.0</td>\n",
              "      <td>[0.005026, 0.001356, 5.5e-05, 0.0, 0.000665, 2...</td>\n",
              "    </tr>\n",
              "  </tbody>\n",
              "</table>\n",
              "</div>"
            ],
            "text/plain": [
              "          video  ...                                          arrayInfo\n",
              "0   video3.webm  ...  [0.125563, 0.024036, 0.000314, 0.0, 0.015864, ...\n",
              "1   video4.webm  ...  [0.007526, 0.001421, 6.8e-05, 0.0, 0.001184, 0...\n",
              "2   video6.webm  ...  [0.109584, 0.018978, 0.000289, 0.0, 0.008774, ...\n",
              "3   video8.webm  ...  [0.120431, 0.013561, 0.000277, 0.0, 0.018974, ...\n",
              "4  video10.webm  ...  [0.005026, 0.001356, 5.5e-05, 0.0, 0.000665, 2...\n",
              "\n",
              "[5 rows x 7 columns]"
            ]
          },
          "metadata": {
            "tags": []
          },
          "execution_count": 278
        }
      ]
    },
    {
      "cell_type": "code",
      "metadata": {
        "id": "lKQq8-415CYE",
        "colab_type": "code",
        "colab": {}
      },
      "source": [
        "# Count Vectorizer\n",
        "cv=CountVectorizer(ngram_range=(1, 2))"
      ],
      "execution_count": 0,
      "outputs": []
    },
    {
      "cell_type": "code",
      "metadata": {
        "id": "G0Yzjn-N5M_U",
        "colab_type": "code",
        "colab": {}
      },
      "source": [
        "X_CV=cv.fit_transform(df['caption'])"
      ],
      "execution_count": 0,
      "outputs": []
    },
    {
      "cell_type": "code",
      "metadata": {
        "id": "oDBgU1ah5D6L",
        "colab_type": "code",
        "outputId": "b62c119e-2bdf-4fd3-e9a4-f8faa877d5b6",
        "colab": {
          "base_uri": "https://localhost:8080/",
          "height": 34
        }
      },
      "source": [
        "\n",
        "type(X_CV)"
      ],
      "execution_count": 0,
      "outputs": [
        {
          "output_type": "execute_result",
          "data": {
            "text/plain": [
              "scipy.sparse.csr.csr_matrix"
            ]
          },
          "metadata": {
            "tags": []
          },
          "execution_count": 281
        }
      ]
    },
    {
      "cell_type": "code",
      "metadata": {
        "id": "sZx7li9v5Wuy",
        "colab_type": "code",
        "outputId": "15d1252d-b8c1-49b7-dcc2-c678a163c11b",
        "colab": {
          "base_uri": "https://localhost:8080/",
          "height": 34
        }
      },
      "source": [
        "#dev-set\n",
        "X_arrseq=X_CV.toarray()\n",
        "type(X_arrseq)"
      ],
      "execution_count": 0,
      "outputs": [
        {
          "output_type": "execute_result",
          "data": {
            "text/plain": [
              "numpy.ndarray"
            ]
          },
          "metadata": {
            "tags": []
          },
          "execution_count": 282
        }
      ]
    },
    {
      "cell_type": "code",
      "metadata": {
        "id": "FpCT7egN5aEM",
        "colab_type": "code",
        "outputId": "f7ba09c2-5193-4280-d326-a466e560e5d5",
        "colab": {
          "base_uri": "https://localhost:8080/",
          "height": 34
        }
      },
      "source": [
        "print(X_arrseq[0])"
      ],
      "execution_count": 0,
      "outputs": [
        {
          "output_type": "stream",
          "text": [
            "[0 0 0 ... 0 0 0]\n"
          ],
          "name": "stdout"
        }
      ]
    },
    {
      "cell_type": "code",
      "metadata": {
        "id": "CHexnIoc5f83",
        "colab_type": "code",
        "colab": {}
      },
      "source": [
        "#Split the Data into Train and Test set\n",
        "\n",
        "Y=df[['short-term_memorability','long-term_memorability']].values  #targets\n",
        "X=X_arrseq #input\n",
        "\n"
      ],
      "execution_count": 0,
      "outputs": []
    },
    {
      "cell_type": "code",
      "metadata": {
        "id": "ewmqa26JThrh",
        "colab_type": "code",
        "colab": {}
      },
      "source": [
        "Y = Y[0:6000]\n",
        "X = X_arrseq[0:6000]\n",
        "Actual_x = X_arrseq[6000:]"
      ],
      "execution_count": 0,
      "outputs": []
    },
    {
      "cell_type": "code",
      "metadata": {
        "id": "i6yShiEy5zwn",
        "colab_type": "code",
        "colab": {}
      },
      "source": [
        "X_train, X_test, Y_train, Y_test = train_test_split(X,Y, test_size=0.2, random_state=42)"
      ],
      "execution_count": 0,
      "outputs": []
    },
    {
      "cell_type": "code",
      "metadata": {
        "colab_type": "code",
        "outputId": "e22991f6-c64f-419a-9d56-1ad635ef3cdb",
        "id": "qr_jfCVp51xb",
        "colab": {
          "base_uri": "https://localhost:8080/",
          "height": 86
        }
      },
      "source": [
        "print('X_train', X_train.shape)\n",
        "print('X_test', X_test.shape)\n",
        "print('Y_train', Y_train.shape)\n",
        "print('Y_test', Y_test.shape)"
      ],
      "execution_count": 197,
      "outputs": [
        {
          "output_type": "stream",
          "text": [
            "X_train (4800, 31248)\n",
            "X_test (1200, 31248)\n",
            "Y_train (4800, 2)\n",
            "Y_test (1200, 2)\n"
          ],
          "name": "stdout"
        }
      ]
    },
    {
      "cell_type": "code",
      "metadata": {
        "id": "AZaMcePMQAWr",
        "colab_type": "code",
        "outputId": "3ff4bf60-8d64-4d87-810e-24a0fcf99a46",
        "colab": {
          "base_uri": "https://localhost:8080/",
          "height": 138
        }
      },
      "source": [
        "Y"
      ],
      "execution_count": 198,
      "outputs": [
        {
          "output_type": "execute_result",
          "data": {
            "text/plain": [
              "array([[0.924, 0.846],\n",
              "       [0.923, 0.667],\n",
              "       [0.863, 0.7  ],\n",
              "       ...,\n",
              "       [0.713, 0.818],\n",
              "       [0.954, 1.   ],\n",
              "       [0.953, 0.615]])"
            ]
          },
          "metadata": {
            "tags": []
          },
          "execution_count": 198
        }
      ]
    },
    {
      "cell_type": "code",
      "metadata": {
        "id": "2PRqkLuB6CgU",
        "colab_type": "code",
        "outputId": "fb20475a-a759-41db-c52d-aec9fb26e1c7",
        "colab": {
          "base_uri": "https://localhost:8080/",
          "height": 34
        }
      },
      "source": [
        "# Neural Networks Construction\n",
        "n_cols = X_train.shape[1]\n",
        "n_cols"
      ],
      "execution_count": 199,
      "outputs": [
        {
          "output_type": "execute_result",
          "data": {
            "text/plain": [
              "31248"
            ]
          },
          "metadata": {
            "tags": []
          },
          "execution_count": 199
        }
      ]
    },
    {
      "cell_type": "code",
      "metadata": {
        "id": "Zv4nqKlJ8zGl",
        "colab_type": "code",
        "outputId": "514a387d-65a1-4e28-dd62-af8a14b17cbe",
        "colab": {
          "base_uri": "https://localhost:8080/",
          "height": 121
        }
      },
      "source": [
        "# Saving the number of columns in predictors: n_cols\n",
        "\n",
        "\n",
        "# model Set up\n",
        "model = Sequential()\n",
        "\n",
        "# Adding the first layer\n",
        "model.add(Dense(100, activation='relu', input_shape=(n_cols,)))\n",
        "model.add(Dropout(0.5))\n",
        "\n",
        "# Adding the second layer\n",
        "model.add(Dense(100, activation='relu'))\n",
        "model.add(Dropout(0.5))\n",
        "\n",
        "# Adding the output layer\n",
        "model.add(Dense(2))\n",
        "\n",
        "#Create a dense network. Use Early stopping monitor to avoid overfitting\n",
        "\n",
        "# Compiling the model\n",
        "model.compile(optimizer='adam', loss='mean_squared_error', metrics=['accuracy'])\n",
        "   \n",
        "# Defining early_stopping_monitor\n",
        "early_stopping_monitor = EarlyStopping(patience=2)\n",
        "    \n",
        "# Fitting the model\n",
        "\n",
        "history=model.fit(X_train, Y_train,epochs=30)\n"
      ],
      "execution_count": 0,
      "outputs": [
        {
          "output_type": "stream",
          "text": [
            "Epoch 1/3\n",
            "4800/4800 [==============================] - 7s 2ms/step - loss: 0.1359 - accuracy: 0.5615\n",
            "Epoch 2/3\n",
            "4800/4800 [==============================] - 7s 1ms/step - loss: 0.0513 - accuracy: 0.5992\n",
            "Epoch 3/3\n",
            "4800/4800 [==============================] - 7s 1ms/step - loss: 0.0352 - accuracy: 0.6129\n"
          ],
          "name": "stdout"
        }
      ]
    },
    {
      "cell_type": "code",
      "metadata": {
        "id": "DZqxUK9E93gd",
        "colab_type": "code",
        "outputId": "a7badec2-1e84-4e7b-91db-6db4d92fa354",
        "colab": {
          "base_uri": "https://localhost:8080/",
          "height": 173
        }
      },
      "source": [
        "predictions1 = model.predict(X_test)\n",
        "amit_caption = model.predict(Actual_x)\n",
        "print(predictions1)\n",
        "Get_score(predictions1, Y_test) "
      ],
      "execution_count": 200,
      "outputs": [
        {
          "output_type": "stream",
          "text": [
            "[[0.85757184 0.75729614]\n",
            " [0.85894126 0.7725818 ]\n",
            " [0.8583276  0.77361333]\n",
            " ...\n",
            " [0.86580163 0.7724285 ]\n",
            " [0.8384506  0.7174108 ]\n",
            " [0.8390341  0.71910876]]\n",
            "The Spearman's correlation coefficient is: 0.320\n",
            "The Spearman's correlation coefficient is: 0.176\n"
          ],
          "name": "stdout"
        }
      ]
    },
    {
      "cell_type": "code",
      "metadata": {
        "id": "oLvK7LH9br2H",
        "colab_type": "code",
        "outputId": "d31f954b-204c-4a08-f59f-8722344a7e4c",
        "colab": {
          "base_uri": "https://localhost:8080/",
          "height": 138
        }
      },
      "source": [
        "amit_caption"
      ],
      "execution_count": 202,
      "outputs": [
        {
          "output_type": "execute_result",
          "data": {
            "text/plain": [
              "array([[0.81948787, 0.68366814],\n",
              "       [0.83840936, 0.717247  ],\n",
              "       [0.8666622 , 0.77557814],\n",
              "       ...,\n",
              "       [0.8628801 , 0.7493487 ],\n",
              "       [0.8804043 , 0.81421125],\n",
              "       [0.87826663, 0.79211825]], dtype=float32)"
            ]
          },
          "metadata": {
            "tags": []
          },
          "execution_count": 202
        }
      ]
    },
    {
      "cell_type": "code",
      "metadata": {
        "id": "-8gaI00f_-gZ",
        "colab_type": "code",
        "outputId": "bb88ae61-5395-4cb7-8332-e37a4f6cd8fd",
        "colab": {
          "base_uri": "https://localhost:8080/",
          "height": 138
        }
      },
      "source": [
        "#Predict test set model 1\n",
        "predictions1_test = model.predict(X_test)\n",
        "print(predictions1_test)"
      ],
      "execution_count": 0,
      "outputs": [
        {
          "output_type": "stream",
          "text": [
            "[[0.82379854 0.7392753 ]\n",
            " [0.8005576  0.72046775]\n",
            " [0.78360784 0.7290983 ]\n",
            " ...\n",
            " [0.76948935 0.7205933 ]\n",
            " [0.7239307  0.6599254 ]\n",
            " [0.77115136 0.69373566]]\n"
          ],
          "name": "stdout"
        }
      ]
    },
    {
      "cell_type": "code",
      "metadata": {
        "id": "lJIjUbv7ALz1",
        "colab_type": "code",
        "colab": {}
      },
      "source": [
        "# TFIDF Algorithm\n",
        "tfidf=TfidfVectorizer(min_df=1, stop_words='english')"
      ],
      "execution_count": 0,
      "outputs": []
    },
    {
      "cell_type": "code",
      "metadata": {
        "id": "TIWRLIciAU_6",
        "colab_type": "code",
        "colab": {}
      },
      "source": [
        "X_TF=tfidf.fit_transform(df['caption'])"
      ],
      "execution_count": 0,
      "outputs": []
    },
    {
      "cell_type": "code",
      "metadata": {
        "id": "tVD0KklrAYgA",
        "colab_type": "code",
        "outputId": "f3a4d4ac-f6ac-449f-f851-1b082d046b2f",
        "colab": {
          "base_uri": "https://localhost:8080/",
          "height": 138
        }
      },
      "source": [
        "\n",
        "# test features\n",
        "X_tfarrseq=X_TF.toarray()\n",
        "X_tfarrseq"
      ],
      "execution_count": 0,
      "outputs": [
        {
          "output_type": "execute_result",
          "data": {
            "text/plain": [
              "array([[0., 0., 0., ..., 0., 0., 0.],\n",
              "       [0., 0., 0., ..., 0., 0., 0.],\n",
              "       [0., 0., 0., ..., 0., 0., 0.],\n",
              "       ...,\n",
              "       [0., 0., 0., ..., 0., 0., 0.],\n",
              "       [0., 0., 0., ..., 0., 0., 0.],\n",
              "       [0., 0., 0., ..., 0., 0., 0.]])"
            ]
          },
          "metadata": {
            "tags": []
          },
          "execution_count": 312
        }
      ]
    },
    {
      "cell_type": "code",
      "metadata": {
        "id": "aQ3FL4caAeh3",
        "colab_type": "code",
        "outputId": "c69b2277-6d96-4420-c044-73dae5de219a",
        "colab": {
          "base_uri": "https://localhost:8080/",
          "height": 34
        }
      },
      "source": [
        "print(X_tfarrseq[0])"
      ],
      "execution_count": 0,
      "outputs": [
        {
          "output_type": "stream",
          "text": [
            "[0. 0. 0. ... 0. 0. 0.]\n"
          ],
          "name": "stdout"
        }
      ]
    },
    {
      "cell_type": "code",
      "metadata": {
        "id": "tYik5yl4AlaQ",
        "colab_type": "code",
        "colab": {}
      },
      "source": [
        "\n",
        "X=X_tfarrseq #input"
      ],
      "execution_count": 0,
      "outputs": []
    },
    {
      "cell_type": "code",
      "metadata": {
        "id": "MXKyhcOwAqJl",
        "colab_type": "code",
        "colab": {}
      },
      "source": [
        "#test set prediction\n",
        "\n",
        "X_train = X_tfarrseq[0:6000]\n",
        "X_test = X_tfarrseq[6000:]"
      ],
      "execution_count": 0,
      "outputs": []
    },
    {
      "cell_type": "code",
      "metadata": {
        "id": "zSN9biz9Ar3m",
        "colab_type": "code",
        "outputId": "9d926e18-f66d-4e45-fc1b-ce0be2061940",
        "colab": {
          "base_uri": "https://localhost:8080/",
          "height": 86
        }
      },
      "source": [
        "print('X_train', X_train.shape)\n",
        "print('X_test', X_test.shape)\n",
        "print('Y_train', Y_train.shape)\n",
        "print('Y_test', Y_test.shape)"
      ],
      "execution_count": 0,
      "outputs": [
        {
          "output_type": "stream",
          "text": [
            "X_train (6000, 5814)\n",
            "X_test (2000, 5814)\n",
            "Y_train (4800, 2)\n",
            "Y_test (1200, 2)\n"
          ],
          "name": "stdout"
        }
      ]
    },
    {
      "cell_type": "code",
      "metadata": {
        "id": "tx6g3a5YA8cb",
        "colab_type": "code",
        "outputId": "caa9ea0e-32f0-4305-d54f-96e92d83e8b6",
        "colab": {
          "base_uri": "https://localhost:8080/",
          "height": 34
        }
      },
      "source": [
        "\n",
        "n_cols = X_train.shape[1]\n",
        "n_cols"
      ],
      "execution_count": 0,
      "outputs": [
        {
          "output_type": "execute_result",
          "data": {
            "text/plain": [
              "5814"
            ]
          },
          "metadata": {
            "tags": []
          },
          "execution_count": 317
        }
      ]
    },
    {
      "cell_type": "code",
      "metadata": {
        "id": "DrQcWOQMBFLO",
        "colab_type": "code",
        "colab": {}
      },
      "source": [
        "\n",
        "# Save the number of columns in predictors: n_cols\n",
        "\n",
        "\n",
        "#  model Set up\n",
        "model = Sequential()\n",
        "# Adding the first layer\n",
        "model.add(Dense(50, activation='relu', input_shape=(n_cols,)))\n",
        "model.add(Dropout(0.5))\n",
        "# Adding the second layer\n",
        "model.add(Dense(32, activation='relu'))\n",
        "model.add(Dropout(0.5))\n",
        "# Adding the output layer\n",
        "model.add(Dense(2))"
      ],
      "execution_count": 0,
      "outputs": []
    },
    {
      "cell_type": "code",
      "metadata": {
        "id": "6chSLG-eBHKI",
        "colab_type": "code",
        "colab": {}
      },
      "source": [
        "# Compiling the model\n",
        "model.compile(optimizer='adam', loss = 'mean_squared_error')"
      ],
      "execution_count": 0,
      "outputs": []
    },
    {
      "cell_type": "code",
      "metadata": {
        "id": "RQNvIdeHBLqn",
        "colab_type": "code",
        "outputId": "81e8721d-c9c3-46eb-83d7-8833e836c670",
        "colab": {
          "base_uri": "https://localhost:8080/",
          "height": 34
        }
      },
      "source": [
        "# Verify that model contains information from compiling\n",
        "print(\"Loss function: \" + model.loss)"
      ],
      "execution_count": 0,
      "outputs": [
        {
          "output_type": "stream",
          "text": [
            "Loss function: mean_squared_error\n"
          ],
          "name": "stdout"
        }
      ]
    },
    {
      "cell_type": "code",
      "metadata": {
        "id": "Us1VEi7fBVeb",
        "colab_type": "code",
        "outputId": "07afc2d2-79eb-496d-f77c-96bb6b5c7a38",
        "colab": {
          "base_uri": "https://localhost:8080/",
          "height": 1000
        }
      },
      "source": [
        "# Fitting the model\n",
        "\n",
        "history=model.fit(X_train, Y_train,epochs=30)"
      ],
      "execution_count": 203,
      "outputs": [
        {
          "output_type": "stream",
          "text": [
            "Epoch 1/30\n",
            "4800/4800 [==============================] - 4s 880us/step - loss: 0.0090\n",
            "Epoch 2/30\n",
            "4800/4800 [==============================] - 4s 863us/step - loss: 0.0089\n",
            "Epoch 3/30\n",
            "4800/4800 [==============================] - 4s 844us/step - loss: 0.0088\n",
            "Epoch 4/30\n",
            "4800/4800 [==============================] - 4s 850us/step - loss: 0.0088\n",
            "Epoch 5/30\n",
            "4800/4800 [==============================] - 4s 846us/step - loss: 0.0085\n",
            "Epoch 6/30\n",
            "4800/4800 [==============================] - 4s 835us/step - loss: 0.0083\n",
            "Epoch 7/30\n",
            "4800/4800 [==============================] - 4s 840us/step - loss: 0.0084\n",
            "Epoch 8/30\n",
            "4800/4800 [==============================] - 4s 830us/step - loss: 0.0085\n",
            "Epoch 9/30\n",
            "4800/4800 [==============================] - 4s 821us/step - loss: 0.0082\n",
            "Epoch 10/30\n",
            "4800/4800 [==============================] - 4s 818us/step - loss: 0.0081\n",
            "Epoch 11/30\n",
            "4800/4800 [==============================] - 4s 827us/step - loss: 0.0080\n",
            "Epoch 12/30\n",
            "4800/4800 [==============================] - 4s 914us/step - loss: 0.0081\n",
            "Epoch 13/30\n",
            "4800/4800 [==============================] - 4s 864us/step - loss: 0.0081\n",
            "Epoch 14/30\n",
            "4800/4800 [==============================] - 4s 859us/step - loss: 0.0078\n",
            "Epoch 15/30\n",
            "4800/4800 [==============================] - 4s 839us/step - loss: 0.0080\n",
            "Epoch 16/30\n",
            "4800/4800 [==============================] - 4s 864us/step - loss: 0.0078\n",
            "Epoch 17/30\n",
            "4800/4800 [==============================] - 4s 861us/step - loss: 0.0079\n",
            "Epoch 18/30\n",
            "4800/4800 [==============================] - 4s 864us/step - loss: 0.0076\n",
            "Epoch 19/30\n",
            "4800/4800 [==============================] - 4s 848us/step - loss: 0.0077\n",
            "Epoch 20/30\n",
            "4800/4800 [==============================] - 4s 871us/step - loss: 0.0077\n",
            "Epoch 21/30\n",
            "4800/4800 [==============================] - 4s 878us/step - loss: 0.0076\n",
            "Epoch 22/30\n",
            "4800/4800 [==============================] - 4s 922us/step - loss: 0.0075\n",
            "Epoch 23/30\n",
            "4800/4800 [==============================] - 4s 910us/step - loss: 0.0075\n",
            "Epoch 24/30\n",
            "4800/4800 [==============================] - 4s 909us/step - loss: 0.0074\n",
            "Epoch 25/30\n",
            "4800/4800 [==============================] - 4s 916us/step - loss: 0.0072\n",
            "Epoch 26/30\n",
            "4800/4800 [==============================] - 4s 891us/step - loss: 0.0073\n",
            "Epoch 27/30\n",
            "4800/4800 [==============================] - 4s 859us/step - loss: 0.0070\n",
            "Epoch 28/30\n",
            "4800/4800 [==============================] - 4s 858us/step - loss: 0.0071\n",
            "Epoch 29/30\n",
            "4800/4800 [==============================] - 4s 859us/step - loss: 0.0072\n",
            "Epoch 30/30\n",
            "4800/4800 [==============================] - 4s 870us/step - loss: 0.0069\n"
          ],
          "name": "stdout"
        }
      ]
    },
    {
      "cell_type": "code",
      "metadata": {
        "id": "TFspTnl_P8up",
        "colab_type": "code",
        "outputId": "278bda90-68e4-47ed-e66f-11e187b9b097",
        "colab": {
          "base_uri": "https://localhost:8080/",
          "height": 173
        }
      },
      "source": [
        "\n",
        "predictions2 = model.predict(X_test)\n",
        "print(predictions2)\n",
        "Get_score(predictions2, Y_test) "
      ],
      "execution_count": 205,
      "outputs": [
        {
          "output_type": "stream",
          "text": [
            "[[0.8865593  0.76809937]\n",
            " [0.8951937  0.8349497 ]\n",
            " [0.87158686 0.7799239 ]\n",
            " ...\n",
            " [0.8841008  0.7793247 ]\n",
            " [0.8549602  0.72832596]\n",
            " [0.8434168  0.69754404]]\n",
            "The Spearman's correlation coefficient is: 0.378\n",
            "The Spearman's correlation coefficient is: 0.170\n"
          ],
          "name": "stdout"
        }
      ]
    },
    {
      "cell_type": "code",
      "metadata": {
        "id": "EHXhynRsQ55G",
        "colab_type": "code",
        "outputId": "a79b65ea-b24b-4105-b607-27bc7347765a",
        "colab": {
          "base_uri": "https://localhost:8080/",
          "height": 138
        }
      },
      "source": [
        "#test set predictions\n",
        "predictions2_test = model.predict(X_test)\n",
        "print(predictions2_test)"
      ],
      "execution_count": 206,
      "outputs": [
        {
          "output_type": "stream",
          "text": [
            "[[0.8865593  0.76809937]\n",
            " [0.8951937  0.8349497 ]\n",
            " [0.87158686 0.7799239 ]\n",
            " ...\n",
            " [0.8841008  0.7793247 ]\n",
            " [0.8549602  0.72832596]\n",
            " [0.8434168  0.69754404]]\n"
          ],
          "name": "stdout"
        }
      ]
    },
    {
      "cell_type": "code",
      "metadata": {
        "id": "kERygbF7RATK",
        "colab_type": "code",
        "colab": {}
      },
      "source": [
        "# IMAGE FEATURE MEMORABILITY\n",
        "result_array = np.empty((0, 6075))\n",
        "for line in df['arrayInfo']:\n",
        "    result_array = np.append(result_array, np.array([line]), axis = 0)\n",
        "    "
      ],
      "execution_count": 0,
      "outputs": []
    },
    {
      "cell_type": "code",
      "metadata": {
        "id": "HJuy6VbkdDQ3",
        "colab_type": "code",
        "outputId": "96c74d03-0b00-4e05-d4fc-219dec8c3dac",
        "colab": {
          "base_uri": "https://localhost:8080/",
          "height": 259
        }
      },
      "source": [
        "\n",
        "X_arrHMP = result_array\n",
        "print(type(X_arrHMP))\n",
        "X_arrHMP"
      ],
      "execution_count": 253,
      "outputs": [
        {
          "output_type": "stream",
          "text": [
            "<class 'numpy.ndarray'>\n"
          ],
          "name": "stdout"
        },
        {
          "output_type": "execute_result",
          "data": {
            "text/plain": [
              "array([[1.25563e-01, 2.40360e-02, 3.14000e-04, ..., 8.60000e-05,\n",
              "        5.80000e-04, 0.00000e+00],\n",
              "       [7.52600e-03, 1.42100e-03, 6.80000e-05, ..., 2.20000e-04,\n",
              "        7.62000e-04, 1.22400e-03],\n",
              "       [1.09584e-01, 1.89780e-02, 2.89000e-04, ..., 5.20000e-05,\n",
              "        2.58000e-04, 2.15000e-04],\n",
              "       ...,\n",
              "       [2.93470e-02, 8.07300e-03, 1.01000e-04, ..., 2.62000e-04,\n",
              "        3.54000e-04, 1.13000e-04],\n",
              "       [2.17460e-02, 3.09600e-03, 4.50000e-05, ..., 1.20000e-04,\n",
              "        1.29000e-04, 2.00000e-05],\n",
              "       [1.12070e-02, 2.82700e-03, 1.37000e-04, ..., 2.85000e-04,\n",
              "        4.49000e-04, 2.32000e-04]])"
            ]
          },
          "metadata": {
            "tags": []
          },
          "execution_count": 253
        }
      ]
    },
    {
      "cell_type": "code",
      "metadata": {
        "id": "5f2-5kGKhe7l",
        "colab_type": "code",
        "colab": {}
      },
      "source": [
        "\n",
        "X=X_arrHMP[0:6000] #input\n",
        "Y=df[['short-term_memorability','long-term_memorability']].values"
      ],
      "execution_count": 0,
      "outputs": []
    },
    {
      "cell_type": "code",
      "metadata": {
        "id": "bmWRYJpwhi1c",
        "colab_type": "code",
        "colab": {}
      },
      "source": [
        "\n",
        "#test set prediction\n",
        "\n",
        "X_train = X[0:6000]\n",
        "X_test = X[6000:]\n",
        "Actual_HMP = X_arrHMP[6000:]"
      ],
      "execution_count": 0,
      "outputs": []
    },
    {
      "cell_type": "code",
      "metadata": {
        "id": "USEpnxOehn4P",
        "colab_type": "code",
        "outputId": "ca21dccc-ef96-48e1-bb33-332000e01485",
        "colab": {
          "base_uri": "https://localhost:8080/",
          "height": 86
        }
      },
      "source": [
        "# Split the data\n",
        "X_train, X_test = train_test_split(X, test_size=0.2, random_state=42) \n",
        "\n",
        "print('X_train', X_train.shape)\n",
        "print('X_test', X_test.shape)\n",
        "print('Y_train', Y_train.shape)\n",
        "print('Y_test', Y_test.shape)"
      ],
      "execution_count": 256,
      "outputs": [
        {
          "output_type": "stream",
          "text": [
            "X_train (4800, 6075)\n",
            "X_test (1200, 6075)\n",
            "Y_train (4800, 2)\n",
            "Y_test (1200, 2)\n"
          ],
          "name": "stdout"
        }
      ]
    },
    {
      "cell_type": "code",
      "metadata": {
        "id": "eBbnWNsGh1_p",
        "colab_type": "code",
        "outputId": "2e6b9521-b175-4d16-a5d9-885897b92fe0",
        "colab": {
          "base_uri": "https://localhost:8080/",
          "height": 34
        }
      },
      "source": [
        "n_cols = X_train.shape[1]\n",
        "n_cols"
      ],
      "execution_count": 257,
      "outputs": [
        {
          "output_type": "execute_result",
          "data": {
            "text/plain": [
              "6075"
            ]
          },
          "metadata": {
            "tags": []
          },
          "execution_count": 257
        }
      ]
    },
    {
      "cell_type": "code",
      "metadata": {
        "id": "5amabrLNh62H",
        "colab_type": "code",
        "colab": {}
      },
      "source": [
        "#Add Dense Layers\n",
        "\n",
        "model_1 = Sequential()\n",
        "model_1.add(Dense(100, activation='relu', input_shape=(n_cols,)))\n",
        "model_1.add(Dropout(0.5))\n",
        "# Adding the second layer\n",
        "model_1.add(Dense(100, activation='relu'))\n",
        "model_1.add(Dropout(0.5))\n",
        "# Adding the output layer\n",
        "model_1.add(Dense(2))"
      ],
      "execution_count": 0,
      "outputs": []
    },
    {
      "cell_type": "code",
      "metadata": {
        "id": "CRGiy_r5iCNl",
        "colab_type": "code",
        "colab": {}
      },
      "source": [
        "\n",
        "# Compiling the model\n",
        "model_1.compile(optimizer='adam', loss='mean_squared_error', metrics=['accuracy'])\n",
        "   \n",
        "# Defining early_stopping_monitor\n",
        "early_stopping_monitor = EarlyStopping(patience=2)"
      ],
      "execution_count": 0,
      "outputs": []
    },
    {
      "cell_type": "code",
      "metadata": {
        "id": "H5CwAIs7iEOV",
        "colab_type": "code",
        "outputId": "a8d186ff-35bf-401e-da4d-3bb71fd5cf23",
        "colab": {
          "base_uri": "https://localhost:8080/",
          "height": 1000
        }
      },
      "source": [
        "\n",
        "# Fitting the model\n",
        "history=model_1.fit(X_train, Y_train,epochs=30)\n",
        "\n"
      ],
      "execution_count": 260,
      "outputs": [
        {
          "output_type": "stream",
          "text": [
            "Epoch 1/30\n",
            "4800/4800 [==============================] - 2s 481us/step - loss: 0.1118 - accuracy: 0.5775\n",
            "Epoch 2/30\n",
            "4800/4800 [==============================] - 2s 375us/step - loss: 0.0339 - accuracy: 0.6117\n",
            "Epoch 3/30\n",
            "4800/4800 [==============================] - 2s 363us/step - loss: 0.0271 - accuracy: 0.6388\n",
            "Epoch 4/30\n",
            "4800/4800 [==============================] - 2s 370us/step - loss: 0.0250 - accuracy: 0.6602\n",
            "Epoch 5/30\n",
            "4800/4800 [==============================] - 2s 389us/step - loss: 0.0232 - accuracy: 0.6762\n",
            "Epoch 6/30\n",
            "4800/4800 [==============================] - 2s 383us/step - loss: 0.0219 - accuracy: 0.6800\n",
            "Epoch 7/30\n",
            "4800/4800 [==============================] - 2s 367us/step - loss: 0.0214 - accuracy: 0.6919\n",
            "Epoch 8/30\n",
            "4800/4800 [==============================] - 2s 354us/step - loss: 0.0213 - accuracy: 0.6998\n",
            "Epoch 9/30\n",
            "4800/4800 [==============================] - 2s 347us/step - loss: 0.0208 - accuracy: 0.7015\n",
            "Epoch 10/30\n",
            "4800/4800 [==============================] - 2s 336us/step - loss: 0.0201 - accuracy: 0.7038\n",
            "Epoch 11/30\n",
            "4800/4800 [==============================] - 2s 354us/step - loss: 0.0194 - accuracy: 0.7035\n",
            "Epoch 12/30\n",
            "4800/4800 [==============================] - 2s 360us/step - loss: 0.0188 - accuracy: 0.7035\n",
            "Epoch 13/30\n",
            "4800/4800 [==============================] - 2s 362us/step - loss: 0.0188 - accuracy: 0.7035\n",
            "Epoch 14/30\n",
            "4800/4800 [==============================] - 2s 378us/step - loss: 0.0188 - accuracy: 0.7035\n",
            "Epoch 15/30\n",
            "4800/4800 [==============================] - 2s 371us/step - loss: 0.0180 - accuracy: 0.7035\n",
            "Epoch 16/30\n",
            "4800/4800 [==============================] - 2s 358us/step - loss: 0.0169 - accuracy: 0.7035\n",
            "Epoch 17/30\n",
            "4800/4800 [==============================] - 2s 353us/step - loss: 0.0168 - accuracy: 0.7035\n",
            "Epoch 18/30\n",
            "4800/4800 [==============================] - 2s 367us/step - loss: 0.0163 - accuracy: 0.7035\n",
            "Epoch 19/30\n",
            "4800/4800 [==============================] - 2s 356us/step - loss: 0.0161 - accuracy: 0.7035\n",
            "Epoch 20/30\n",
            "4800/4800 [==============================] - 2s 344us/step - loss: 0.0158 - accuracy: 0.7035\n",
            "Epoch 21/30\n",
            "4800/4800 [==============================] - 2s 325us/step - loss: 0.0156 - accuracy: 0.7035\n",
            "Epoch 22/30\n",
            "4800/4800 [==============================] - 1s 312us/step - loss: 0.0154 - accuracy: 0.7035\n",
            "Epoch 23/30\n",
            "4800/4800 [==============================] - 1s 312us/step - loss: 0.0151 - accuracy: 0.7035\n",
            "Epoch 24/30\n",
            "4800/4800 [==============================] - 2s 317us/step - loss: 0.0147 - accuracy: 0.7035\n",
            "Epoch 25/30\n",
            "4800/4800 [==============================] - 2s 320us/step - loss: 0.0147 - accuracy: 0.7035\n",
            "Epoch 26/30\n",
            "4800/4800 [==============================] - 2s 319us/step - loss: 0.0144 - accuracy: 0.7035\n",
            "Epoch 27/30\n",
            "4800/4800 [==============================] - 2s 329us/step - loss: 0.0142 - accuracy: 0.7035\n",
            "Epoch 28/30\n",
            "4800/4800 [==============================] - 2s 325us/step - loss: 0.0141 - accuracy: 0.7035\n",
            "Epoch 29/30\n",
            "4800/4800 [==============================] - 2s 333us/step - loss: 0.0140 - accuracy: 0.7035\n",
            "Epoch 30/30\n",
            "4800/4800 [==============================] - 2s 330us/step - loss: 0.0138 - accuracy: 0.7035\n"
          ],
          "name": "stdout"
        }
      ]
    },
    {
      "cell_type": "code",
      "metadata": {
        "id": "UeQ5JpBs4Wl3",
        "colab_type": "code",
        "outputId": "4cb554fb-3042-489f-a0d1-014eef0d3c2d",
        "colab": {
          "base_uri": "https://localhost:8080/",
          "height": 173
        }
      },
      "source": [
        "# for training set\n",
        "predictions3 = model_1.predict(X_test)\n",
        "Amit_HMP = model_1.predict(Actual_HMP)\n",
        "print(predictions3)\n",
        "Get_score(predictions3, Y_test)"
      ],
      "execution_count": 261,
      "outputs": [
        {
          "output_type": "stream",
          "text": [
            "[[0.8838241  0.8066225 ]\n",
            " [0.8525182  0.774944  ]\n",
            " [0.88458323 0.8077444 ]\n",
            " ...\n",
            " [0.8745872  0.79708517]\n",
            " [0.86983156 0.79242784]\n",
            " [0.8594893  0.78209317]]\n",
            "The Spearman's correlation coefficient is: 0.285\n",
            "The Spearman's correlation coefficient is: 0.121\n"
          ],
          "name": "stdout"
        }
      ]
    },
    {
      "cell_type": "code",
      "metadata": {
        "id": "izfLUPtZiFiu",
        "colab_type": "code",
        "colab": {}
      },
      "source": [
        "labels_test[['short-term_memorability','long-term_memorability']] = Amit_HMP"
      ],
      "execution_count": 0,
      "outputs": []
    },
    {
      "cell_type": "code",
      "metadata": {
        "id": "qje1IgKhib9A",
        "colab_type": "code",
        "outputId": "9f1fc31b-0996-4c88-e2af-eae9e7327540",
        "colab": {
          "base_uri": "https://localhost:8080/",
          "height": 408
        }
      },
      "source": [
        "labels_test"
      ],
      "execution_count": 220,
      "outputs": [
        {
          "output_type": "execute_result",
          "data": {
            "text/html": [
              "<div>\n",
              "<style scoped>\n",
              "    .dataframe tbody tr th:only-of-type {\n",
              "        vertical-align: middle;\n",
              "    }\n",
              "\n",
              "    .dataframe tbody tr th {\n",
              "        vertical-align: top;\n",
              "    }\n",
              "\n",
              "    .dataframe thead th {\n",
              "        text-align: right;\n",
              "    }\n",
              "</style>\n",
              "<table border=\"1\" class=\"dataframe\">\n",
              "  <thead>\n",
              "    <tr style=\"text-align: right;\">\n",
              "      <th></th>\n",
              "      <th>video</th>\n",
              "      <th>short-term_memorability</th>\n",
              "      <th>nb_short-term_annotations</th>\n",
              "      <th>long-term_memorability</th>\n",
              "      <th>nb_long-term_annotations</th>\n",
              "    </tr>\n",
              "  </thead>\n",
              "  <tbody>\n",
              "    <tr>\n",
              "      <th>0</th>\n",
              "      <td>7494</td>\n",
              "      <td>0.836993</td>\n",
              "      <td>33</td>\n",
              "      <td>0.753683</td>\n",
              "      <td>12</td>\n",
              "    </tr>\n",
              "    <tr>\n",
              "      <th>1</th>\n",
              "      <td>7495</td>\n",
              "      <td>0.848990</td>\n",
              "      <td>34</td>\n",
              "      <td>0.765504</td>\n",
              "      <td>10</td>\n",
              "    </tr>\n",
              "    <tr>\n",
              "      <th>2</th>\n",
              "      <td>7496</td>\n",
              "      <td>0.878214</td>\n",
              "      <td>32</td>\n",
              "      <td>0.794203</td>\n",
              "      <td>13</td>\n",
              "    </tr>\n",
              "    <tr>\n",
              "      <th>3</th>\n",
              "      <td>7497</td>\n",
              "      <td>0.855277</td>\n",
              "      <td>33</td>\n",
              "      <td>0.771780</td>\n",
              "      <td>10</td>\n",
              "    </tr>\n",
              "    <tr>\n",
              "      <th>4</th>\n",
              "      <td>7498</td>\n",
              "      <td>0.823131</td>\n",
              "      <td>33</td>\n",
              "      <td>0.740187</td>\n",
              "      <td>10</td>\n",
              "    </tr>\n",
              "    <tr>\n",
              "      <th>...</th>\n",
              "      <td>...</td>\n",
              "      <td>...</td>\n",
              "      <td>...</td>\n",
              "      <td>...</td>\n",
              "      <td>...</td>\n",
              "    </tr>\n",
              "    <tr>\n",
              "      <th>1995</th>\n",
              "      <td>10004</td>\n",
              "      <td>0.858914</td>\n",
              "      <td>34</td>\n",
              "      <td>0.775164</td>\n",
              "      <td>17</td>\n",
              "    </tr>\n",
              "    <tr>\n",
              "      <th>1996</th>\n",
              "      <td>10005</td>\n",
              "      <td>0.857334</td>\n",
              "      <td>34</td>\n",
              "      <td>0.773682</td>\n",
              "      <td>9</td>\n",
              "    </tr>\n",
              "    <tr>\n",
              "      <th>1997</th>\n",
              "      <td>10006</td>\n",
              "      <td>0.857410</td>\n",
              "      <td>34</td>\n",
              "      <td>0.773685</td>\n",
              "      <td>12</td>\n",
              "    </tr>\n",
              "    <tr>\n",
              "      <th>1998</th>\n",
              "      <td>10007</td>\n",
              "      <td>0.840250</td>\n",
              "      <td>34</td>\n",
              "      <td>0.756929</td>\n",
              "      <td>12</td>\n",
              "    </tr>\n",
              "    <tr>\n",
              "      <th>1999</th>\n",
              "      <td>10008</td>\n",
              "      <td>0.858437</td>\n",
              "      <td>33</td>\n",
              "      <td>0.774765</td>\n",
              "      <td>10</td>\n",
              "    </tr>\n",
              "  </tbody>\n",
              "</table>\n",
              "<p>2000 rows × 5 columns</p>\n",
              "</div>"
            ],
            "text/plain": [
              "      video  ...  nb_long-term_annotations\n",
              "0      7494  ...                        12\n",
              "1      7495  ...                        10\n",
              "2      7496  ...                        13\n",
              "3      7497  ...                        10\n",
              "4      7498  ...                        10\n",
              "...     ...  ...                       ...\n",
              "1995  10004  ...                        17\n",
              "1996  10005  ...                         9\n",
              "1997  10006  ...                        12\n",
              "1998  10007  ...                        12\n",
              "1999  10008  ...                        10\n",
              "\n",
              "[2000 rows x 5 columns]"
            ]
          },
          "metadata": {
            "tags": []
          },
          "execution_count": 220
        }
      ]
    },
    {
      "cell_type": "code",
      "metadata": {
        "id": "Xkno1Vf1i8QZ",
        "colab_type": "code",
        "colab": {}
      },
      "source": [
        "labels_test.to_csv('/content/drive/My Drive/Test_Results1.csv',index=None)"
      ],
      "execution_count": 0,
      "outputs": []
    },
    {
      "cell_type": "code",
      "metadata": {
        "id": "LzggRfXY5JzW",
        "colab_type": "code",
        "outputId": "409df69d-942f-426f-c5d4-065436f50252",
        "colab": {
          "base_uri": "https://localhost:8080/",
          "height": 138
        }
      },
      "source": [
        "print(predictions_test)"
      ],
      "execution_count": 182,
      "outputs": [
        {
          "output_type": "stream",
          "text": [
            "[[1.728823  1.4667335]\n",
            " [1.7434413 1.5805445]\n",
            " [1.71924   1.5661911]\n",
            " ...\n",
            " [1.7527041 1.5598409]\n",
            " [1.6931514 1.4187878]\n",
            " [1.6828434 1.404185 ]]\n"
          ],
          "name": "stdout"
        }
      ]
    },
    {
      "cell_type": "code",
      "metadata": {
        "id": "i9ary4CP5OFC",
        "colab_type": "code",
        "colab": {}
      },
      "source": [
        "predictions_test = np.divide(predictions_test, 3)"
      ],
      "execution_count": 0,
      "outputs": []
    },
    {
      "cell_type": "code",
      "metadata": {
        "id": "eQL-WPsF5SlD",
        "colab_type": "code",
        "outputId": "725ce058-14fd-4e9b-97ff-e77e764971c5",
        "colab": {
          "base_uri": "https://localhost:8080/",
          "height": 34
        }
      },
      "source": [
        "predictions_test.shape"
      ],
      "execution_count": 223,
      "outputs": [
        {
          "output_type": "execute_result",
          "data": {
            "text/plain": [
              "(1200, 2)"
            ]
          },
          "metadata": {
            "tags": []
          },
          "execution_count": 223
        }
      ]
    },
    {
      "cell_type": "code",
      "metadata": {
        "id": "Eoc-DV-G5W4j",
        "colab_type": "code",
        "outputId": "d33777f0-5088-4fcb-9721-2e36392e2e1a",
        "colab": {
          "base_uri": "https://localhost:8080/",
          "height": 138
        }
      },
      "source": [
        "#Final Predictions with Ensemble\n",
        "print(predictions_test)"
      ],
      "execution_count": 224,
      "outputs": [
        {
          "output_type": "stream",
          "text": [
            "[[0.57627434 0.48891115]\n",
            " [0.58114713 0.52684814]\n",
            " [0.57308    0.5220637 ]\n",
            " ...\n",
            " [0.5842347  0.519947  ]\n",
            " [0.5643838  0.47292927]\n",
            " [0.56094784 0.4680617 ]]\n"
          ],
          "name": "stdout"
        }
      ]
    },
    {
      "cell_type": "code",
      "metadata": {
        "id": "L9GlqGNr5iyZ",
        "colab_type": "code",
        "colab": {}
      },
      "source": [
        "#Extract the results in a csv\n",
        "df_test_results = pd.DataFrame(columns = ['video', 'short-term', 'long-term'])\n",
        "df_test_results['short-term'] = predictions_test[:,0]\n",
        "df_test_results['long-term'] = predictions_test[:,1]\n",
        "df_test_results['video'] = df['video'][6000:]"
      ],
      "execution_count": 0,
      "outputs": []
    },
    {
      "cell_type": "code",
      "metadata": {
        "id": "QVqKzFZe5_SV",
        "colab_type": "code",
        "outputId": "49c5774f-4b35-47dc-e61c-da3cee63f83e",
        "colab": {
          "base_uri": "https://localhost:8080/",
          "height": 198
        }
      },
      "source": [
        "df_test_results.head()"
      ],
      "execution_count": 226,
      "outputs": [
        {
          "output_type": "execute_result",
          "data": {
            "text/html": [
              "<div>\n",
              "<style scoped>\n",
              "    .dataframe tbody tr th:only-of-type {\n",
              "        vertical-align: middle;\n",
              "    }\n",
              "\n",
              "    .dataframe tbody tr th {\n",
              "        vertical-align: top;\n",
              "    }\n",
              "\n",
              "    .dataframe thead th {\n",
              "        text-align: right;\n",
              "    }\n",
              "</style>\n",
              "<table border=\"1\" class=\"dataframe\">\n",
              "  <thead>\n",
              "    <tr style=\"text-align: right;\">\n",
              "      <th></th>\n",
              "      <th>video</th>\n",
              "      <th>short-term</th>\n",
              "      <th>long-term</th>\n",
              "    </tr>\n",
              "  </thead>\n",
              "  <tbody>\n",
              "    <tr>\n",
              "      <th>0</th>\n",
              "      <td>video7494.webm</td>\n",
              "      <td>0.576274</td>\n",
              "      <td>0.488911</td>\n",
              "    </tr>\n",
              "    <tr>\n",
              "      <th>1</th>\n",
              "      <td>video7495.webm</td>\n",
              "      <td>0.581147</td>\n",
              "      <td>0.526848</td>\n",
              "    </tr>\n",
              "    <tr>\n",
              "      <th>2</th>\n",
              "      <td>video7496.webm</td>\n",
              "      <td>0.573080</td>\n",
              "      <td>0.522064</td>\n",
              "    </tr>\n",
              "    <tr>\n",
              "      <th>3</th>\n",
              "      <td>video7497.webm</td>\n",
              "      <td>0.537063</td>\n",
              "      <td>0.465260</td>\n",
              "    </tr>\n",
              "    <tr>\n",
              "      <th>4</th>\n",
              "      <td>video7498.webm</td>\n",
              "      <td>0.564899</td>\n",
              "      <td>0.487297</td>\n",
              "    </tr>\n",
              "  </tbody>\n",
              "</table>\n",
              "</div>"
            ],
            "text/plain": [
              "            video  short-term  long-term\n",
              "0  video7494.webm    0.576274   0.488911\n",
              "1  video7495.webm    0.581147   0.526848\n",
              "2  video7496.webm    0.573080   0.522064\n",
              "3  video7497.webm    0.537063   0.465260\n",
              "4  video7498.webm    0.564899   0.487297"
            ]
          },
          "metadata": {
            "tags": []
          },
          "execution_count": 226
        }
      ]
    },
    {
      "cell_type": "code",
      "metadata": {
        "id": "ngHEfF4g6GyG",
        "colab_type": "code",
        "colab": {}
      },
      "source": [
        "\n",
        "\n",
        "df_test_results.to_csv('/content/drive/My Drive/Test_Results.csv',index=None)\n"
      ],
      "execution_count": 0,
      "outputs": []
    },
    {
      "cell_type": "code",
      "metadata": {
        "id": "bvd1l8HnPP8N",
        "colab_type": "code",
        "outputId": "c51f004c-096b-485f-f30f-da7b997b2967",
        "colab": {
          "base_uri": "https://localhost:8080/",
          "height": 173
        }
      },
      "source": [
        "\n",
        "print(predictions3)\n",
        "Get_score(predictions3, Y_test)\n"
      ],
      "execution_count": 228,
      "outputs": [
        {
          "output_type": "stream",
          "text": [
            "[[0.86663616 0.7828808 ]\n",
            " [0.84350204 0.7600992 ]\n",
            " [0.86958027 0.7855265 ]\n",
            " ...\n",
            " [0.8597808  0.776061  ]\n",
            " [0.85609335 0.77241904]\n",
            " [0.8481791  0.7646832 ]]\n",
            "The Spearman's correlation coefficient is: 0.289\n",
            "The Spearman's correlation coefficient is: 0.127\n"
          ],
          "name": "stdout"
        }
      ]
    },
    {
      "cell_type": "code",
      "metadata": {
        "id": "p2E0-50ARVCy",
        "colab_type": "code",
        "colab": {}
      },
      "source": [
        "#Creating an ensemble with Weighted Average method\n",
        "predictions_weighted  = 0.40*predictions1 + 0.40*predictions2 + 0.10*predictions3"
      ],
      "execution_count": 0,
      "outputs": []
    },
    {
      "cell_type": "code",
      "metadata": {
        "id": "TONd8-_VRcWB",
        "colab_type": "code",
        "outputId": "7e508c35-6550-440f-fac8-2ec26b90ce7f",
        "colab": {
          "base_uri": "https://localhost:8080/",
          "height": 138
        }
      },
      "source": [
        "print(predictions_weighted)"
      ],
      "execution_count": 231,
      "outputs": [
        {
          "output_type": "stream",
          "text": [
            "[[0.78431606 0.6884463 ]\n",
            " [0.78600425 0.7190226 ]\n",
            " [0.77892387 0.69996756]\n",
            " ...\n",
            " [0.78593904 0.6983074 ]\n",
            " [0.76297367 0.65553665]\n",
            " [0.75779825 0.64312947]]\n"
          ],
          "name": "stdout"
        }
      ]
    },
    {
      "cell_type": "code",
      "metadata": {
        "id": "XUDW1crfRh3s",
        "colab_type": "code",
        "outputId": "c715afa8-ec32-431d-d8b6-c9a1e68c7c01",
        "colab": {
          "base_uri": "https://localhost:8080/",
          "height": 173
        }
      },
      "source": [
        "\n",
        "print(predictions_weighted)\n",
        "Get_score(predictions_weighted, Y_test) "
      ],
      "execution_count": 232,
      "outputs": [
        {
          "output_type": "stream",
          "text": [
            "[[0.78431606 0.6884463 ]\n",
            " [0.78600425 0.7190226 ]\n",
            " [0.77892387 0.69996756]\n",
            " ...\n",
            " [0.78593904 0.6983074 ]\n",
            " [0.76297367 0.65553665]\n",
            " [0.75779825 0.64312947]]\n",
            "The Spearman's correlation coefficient is: 0.386\n",
            "The Spearman's correlation coefficient is: 0.181\n"
          ],
          "name": "stdout"
        }
      ]
    }
  ]
}